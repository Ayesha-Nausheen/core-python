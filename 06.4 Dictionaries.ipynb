{
 "cells": [
  {
   "cell_type": "markdown",
   "id": "9d183be9",
   "metadata": {},
   "source": [
    "# Dictionaries\n",
    "-Dictionaries are unordered collection"
   ]
  },
  {
   "cell_type": "markdown",
   "id": "02e997b2",
   "metadata": {},
   "source": [
    "## Empty Dict"
   ]
  },
  {
   "cell_type": "code",
   "execution_count": 1,
   "id": "6aee9758",
   "metadata": {},
   "outputs": [
    {
     "data": {
      "text/plain": [
       "{}"
      ]
     },
     "execution_count": 1,
     "metadata": {},
     "output_type": "execute_result"
    }
   ],
   "source": [
    "d={}\n",
    "d"
   ]
  },
  {
   "cell_type": "code",
   "execution_count": 2,
   "id": "72b920ff",
   "metadata": {},
   "outputs": [
    {
     "data": {
      "text/plain": [
       "dict"
      ]
     },
     "execution_count": 2,
     "metadata": {},
     "output_type": "execute_result"
    }
   ],
   "source": [
    "type(d)"
   ]
  },
  {
   "cell_type": "code",
   "execution_count": 3,
   "id": "31ba72d1",
   "metadata": {},
   "outputs": [
    {
     "name": "stdout",
     "output_type": "stream",
     "text": [
      "{}\n"
     ]
    },
    {
     "data": {
      "text/plain": [
       "dict"
      ]
     },
     "execution_count": 3,
     "metadata": {},
     "output_type": "execute_result"
    }
   ],
   "source": [
    "d=dict()\n",
    "print(d)\n",
    "type(d)"
   ]
  },
  {
   "cell_type": "markdown",
   "id": "9e3bf3bc",
   "metadata": {},
   "source": [
    "- In python, dictionaries are defined within braces {} with each item being key:value\n",
    "-keys can be fundamental data type - GenerLLY, THE KEYS ARE INT OR STR\n",
    "- values can be of any data type"
   ]
  },
  {
   "cell_type": "code",
   "execution_count": 4,
   "id": "65d39aa5",
   "metadata": {},
   "outputs": [
    {
     "data": {
      "text/plain": [
       "{'Humera': 1, 'Sameera': 2, 'Sana': 3, 'Zeba': 4, 'Ayesha': 5, 'Kulsum': 6}"
      ]
     },
     "execution_count": 4,
     "metadata": {},
     "output_type": "execute_result"
    }
   ],
   "source": [
    "sis={'Humera':1, 'Sameera':2, 'Sana':3, 'Zeba':4, 'Ayesha':5, 'Kulsum':6}\n",
    "sis"
   ]
  },
  {
   "cell_type": "code",
   "execution_count": 5,
   "id": "92fcacd8",
   "metadata": {},
   "outputs": [
    {
     "data": {
      "text/plain": [
       "1"
      ]
     },
     "execution_count": 5,
     "metadata": {},
     "output_type": "execute_result"
    }
   ],
   "source": [
    "sis['Humera']"
   ]
  },
  {
   "cell_type": "code",
   "execution_count": 6,
   "id": "bc06ea0d",
   "metadata": {},
   "outputs": [
    {
     "data": {
      "text/plain": [
       "2"
      ]
     },
     "execution_count": 6,
     "metadata": {},
     "output_type": "execute_result"
    }
   ],
   "source": [
    "sis['Sameera']"
   ]
  },
  {
   "cell_type": "code",
   "execution_count": 7,
   "id": "a51de4cd",
   "metadata": {},
   "outputs": [
    {
     "data": {
      "text/plain": [
       "3"
      ]
     },
     "execution_count": 7,
     "metadata": {},
     "output_type": "execute_result"
    }
   ],
   "source": [
    "sis['Sana']"
   ]
  },
  {
   "cell_type": "code",
   "execution_count": 8,
   "id": "f5062702",
   "metadata": {},
   "outputs": [
    {
     "data": {
      "text/plain": [
       "4"
      ]
     },
     "execution_count": 8,
     "metadata": {},
     "output_type": "execute_result"
    }
   ],
   "source": [
    "sis['Zeba']"
   ]
  },
  {
   "cell_type": "code",
   "execution_count": 9,
   "id": "37d082fc",
   "metadata": {},
   "outputs": [
    {
     "data": {
      "text/plain": [
       "5"
      ]
     },
     "execution_count": 9,
     "metadata": {},
     "output_type": "execute_result"
    }
   ],
   "source": [
    "sis['Ayesha']"
   ]
  },
  {
   "cell_type": "code",
   "execution_count": 10,
   "id": "2be6b736",
   "metadata": {},
   "outputs": [
    {
     "data": {
      "text/plain": [
       "6"
      ]
     },
     "execution_count": 10,
     "metadata": {},
     "output_type": "execute_result"
    }
   ],
   "source": [
    "sis['Kulsum']"
   ]
  },
  {
   "cell_type": "code",
   "execution_count": 11,
   "id": "b9f74ed4",
   "metadata": {},
   "outputs": [
    {
     "data": {
      "text/plain": [
       "{1: 232,\n",
       " 23.4: [3, 4, 5],\n",
       " 'key3': (34, 53, 45),\n",
       " 'key4': {'item1', 'item2', 'item3'}}"
      ]
     },
     "execution_count": 11,
     "metadata": {},
     "output_type": "execute_result"
    }
   ],
   "source": [
    "k={1:232,23.4:[3,4,5], 'key3': (34,53,45), 'key4':{'item1','item2','item3'}}\n",
    "k"
   ]
  },
  {
   "cell_type": "markdown",
   "id": "f770d902",
   "metadata": {},
   "source": [
    "# Pandas libraries is based on dictionaries and lists"
   ]
  },
  {
   "cell_type": "code",
   "execution_count": 12,
   "id": "d411aed6",
   "metadata": {},
   "outputs": [
    {
     "data": {
      "text/plain": [
       "{'car1': 1989, 'car2': 1983, 'car3': {1: 3}}"
      ]
     },
     "execution_count": 12,
     "metadata": {},
     "output_type": "execute_result"
    }
   ],
   "source": [
    "car_type={'car1':1989,'car2':1983,'car3':{1:3}}\n",
    "car_type"
   ]
  },
  {
   "cell_type": "code",
   "execution_count": 13,
   "id": "a9982458",
   "metadata": {},
   "outputs": [
    {
     "data": {
      "text/plain": [
       "{1: 3}"
      ]
     },
     "execution_count": 13,
     "metadata": {},
     "output_type": "execute_result"
    }
   ],
   "source": [
    "car_type['car3']"
   ]
  },
  {
   "cell_type": "code",
   "execution_count": 14,
   "id": "e4f31546",
   "metadata": {},
   "outputs": [
    {
     "data": {
      "text/plain": [
       "3"
      ]
     },
     "execution_count": 14,
     "metadata": {},
     "output_type": "execute_result"
    }
   ],
   "source": [
    "car_type['car3'][1]"
   ]
  },
  {
   "cell_type": "code",
   "execution_count": 15,
   "id": "58af25e7",
   "metadata": {},
   "outputs": [
    {
     "data": {
      "text/plain": [
       "{'Urdu': 96,\n",
       " 'Telugu': 92,\n",
       " 'English': 98,\n",
       " 'Math': 99,\n",
       " 'Science': 100,\n",
       " 'Social': 94}"
      ]
     },
     "execution_count": 15,
     "metadata": {},
     "output_type": "execute_result"
    }
   ],
   "source": [
    "marks={'Urdu':96,'Telugu':92,'English':98,'Math':99,'Science':100,'Social':94,}\n",
    "marks"
   ]
  },
  {
   "cell_type": "code",
   "execution_count": 16,
   "id": "29ae204d",
   "metadata": {},
   "outputs": [
    {
     "data": {
      "text/plain": [
       "6"
      ]
     },
     "execution_count": 16,
     "metadata": {},
     "output_type": "execute_result"
    }
   ],
   "source": [
    "len(marks)"
   ]
  },
  {
   "cell_type": "code",
   "execution_count": 17,
   "id": "ce78b349",
   "metadata": {},
   "outputs": [
    {
     "data": {
      "text/plain": [
       "dict_items([('Urdu', 96), ('Telugu', 92), ('English', 98), ('Math', 99), ('Science', 100), ('Social', 94)])"
      ]
     },
     "execution_count": 17,
     "metadata": {},
     "output_type": "execute_result"
    }
   ],
   "source": [
    "marks.items()"
   ]
  },
  {
   "cell_type": "code",
   "execution_count": 18,
   "id": "5e0bbf50",
   "metadata": {},
   "outputs": [
    {
     "data": {
      "text/plain": [
       "dict_values([96, 92, 98, 99, 100, 94])"
      ]
     },
     "execution_count": 18,
     "metadata": {},
     "output_type": "execute_result"
    }
   ],
   "source": [
    "marks.values()"
   ]
  },
  {
   "cell_type": "code",
   "execution_count": 19,
   "id": "6307d485",
   "metadata": {},
   "outputs": [
    {
     "data": {
      "text/plain": [
       "dict_keys(['Urdu', 'Telugu', 'English', 'Math', 'Science', 'Social'])"
      ]
     },
     "execution_count": 19,
     "metadata": {},
     "output_type": "execute_result"
    }
   ],
   "source": [
    "marks.keys()"
   ]
  },
  {
   "cell_type": "code",
   "execution_count": 20,
   "id": "0f8720bb",
   "metadata": {},
   "outputs": [
    {
     "data": {
      "text/plain": [
       "100"
      ]
     },
     "execution_count": 20,
     "metadata": {},
     "output_type": "execute_result"
    }
   ],
   "source": [
    "marks['Science']"
   ]
  },
  {
   "cell_type": "code",
   "execution_count": 21,
   "id": "a07016d7",
   "metadata": {},
   "outputs": [
    {
     "data": {
      "text/plain": [
       "{'Urdu': 96,\n",
       " 'Telugu': 92,\n",
       " 'English': 98,\n",
       " 'Math': 99,\n",
       " 'Science': 100,\n",
       " 'Social': 94,\n",
       " 'Environmental Science': 99}"
      ]
     },
     "execution_count": 21,
     "metadata": {},
     "output_type": "execute_result"
    }
   ],
   "source": [
    "marks['Environmental Science']=99\n",
    "marks"
   ]
  },
  {
   "cell_type": "code",
   "execution_count": 22,
   "id": "85848278",
   "metadata": {},
   "outputs": [
    {
     "data": {
      "text/plain": [
       "{'Urdu': 96,\n",
       " 'Telugu': 92,\n",
       " 'English': 98,\n",
       " 'Math': 99,\n",
       " 'Science': 100,\n",
       " 'Social': 94,\n",
       " 'Environmental Science': 99,\n",
       " 'Botany': 60,\n",
       " 'Zoology': 60,\n",
       " 'Physics': 52,\n",
       " 'Chemistry': 58}"
      ]
     },
     "execution_count": 22,
     "metadata": {},
     "output_type": "execute_result"
    }
   ],
   "source": [
    "marks.update({'Botany':60,'Zoology':60,'Physics':52,'Chemistry':58})\n",
    "marks"
   ]
  },
  {
   "cell_type": "code",
   "execution_count": 23,
   "id": "98dad25e",
   "metadata": {},
   "outputs": [
    {
     "data": {
      "text/plain": [
       "{'Urdu': 98,\n",
       " 'Telugu': 92,\n",
       " 'English': 98,\n",
       " 'Math': 99,\n",
       " 'Science': 100,\n",
       " 'Social': 94,\n",
       " 'Environmental Science': 99,\n",
       " 'Botany': 60,\n",
       " 'Zoology': 60,\n",
       " 'Physics': 52,\n",
       " 'Chemistry': 58}"
      ]
     },
     "execution_count": 23,
     "metadata": {},
     "output_type": "execute_result"
    }
   ],
   "source": [
    "marks['Urdu']=98\n",
    "marks"
   ]
  },
  {
   "cell_type": "code",
   "execution_count": 24,
   "id": "e3c4c58f",
   "metadata": {},
   "outputs": [
    {
     "ename": "KeyError",
     "evalue": "'urdu'",
     "output_type": "error",
     "traceback": [
      "\u001b[0;31m---------------------------------------------------------------------------\u001b[0m",
      "\u001b[0;31mKeyError\u001b[0m                                  Traceback (most recent call last)",
      "\u001b[0;32m/var/folders/fh/8wlf5_bd2hg7ys59grg30w180000gn/T/ipykernel_8763/252078145.py\u001b[0m in \u001b[0;36m<module>\u001b[0;34m\u001b[0m\n\u001b[0;32m----> 1\u001b[0;31m \u001b[0;32mdel\u001b[0m \u001b[0mmarks\u001b[0m\u001b[0;34m[\u001b[0m\u001b[0;34m'urdu'\u001b[0m\u001b[0;34m]\u001b[0m\u001b[0;34m\u001b[0m\u001b[0;34m\u001b[0m\u001b[0m\n\u001b[0m\u001b[1;32m      2\u001b[0m \u001b[0mmarks\u001b[0m\u001b[0;34m\u001b[0m\u001b[0;34m\u001b[0m\u001b[0m\n",
      "\u001b[0;31mKeyError\u001b[0m: 'urdu'"
     ]
    }
   ],
   "source": [
    "del marks['urdu']\n",
    "marks"
   ]
  },
  {
   "cell_type": "code",
   "execution_count": 25,
   "id": "5409ecde",
   "metadata": {},
   "outputs": [
    {
     "ename": "KeyError",
     "evalue": "'Overall Participation'",
     "output_type": "error",
     "traceback": [
      "\u001b[0;31m---------------------------------------------------------------------------\u001b[0m",
      "\u001b[0;31mKeyError\u001b[0m                                  Traceback (most recent call last)",
      "\u001b[0;32m/var/folders/fh/8wlf5_bd2hg7ys59grg30w180000gn/T/ipykernel_8763/522097154.py\u001b[0m in \u001b[0;36m<module>\u001b[0;34m\u001b[0m\n\u001b[0;32m----> 1\u001b[0;31m \u001b[0mmarks\u001b[0m\u001b[0;34m[\u001b[0m\u001b[0;34m'Telugu'\u001b[0m\u001b[0;34m]\u001b[0m \u001b[0;34m=\u001b[0m \u001b[0mmarks\u001b[0m\u001b[0;34m.\u001b[0m\u001b[0mpop\u001b[0m\u001b[0;34m(\u001b[0m\u001b[0;34m'Overall Participation'\u001b[0m\u001b[0;34m)\u001b[0m\u001b[0;34m\u001b[0m\u001b[0;34m\u001b[0m\u001b[0m\n\u001b[0m\u001b[1;32m      2\u001b[0m \u001b[0mmarks\u001b[0m\u001b[0;34m\u001b[0m\u001b[0;34m\u001b[0m\u001b[0m\n",
      "\u001b[0;31mKeyError\u001b[0m: 'Overall Participation'"
     ]
    }
   ],
   "source": [
    "marks['Telugu'] = marks.pop('Overall Participation')\n",
    "marks"
   ]
  },
  {
   "cell_type": "code",
   "execution_count": null,
   "id": "5254bd7c",
   "metadata": {},
   "outputs": [],
   "source": []
  }
 ],
 "metadata": {
  "kernelspec": {
   "display_name": "Python 3 (ipykernel)",
   "language": "python",
   "name": "python3"
  },
  "language_info": {
   "codemirror_mode": {
    "name": "ipython",
    "version": 3
   },
   "file_extension": ".py",
   "mimetype": "text/x-python",
   "name": "python",
   "nbconvert_exporter": "python",
   "pygments_lexer": "ipython3",
   "version": "3.9.13"
  }
 },
 "nbformat": 4,
 "nbformat_minor": 5
}
