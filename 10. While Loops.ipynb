{
 "cells": [
  {
   "cell_type": "markdown",
   "id": "a11843c7",
   "metadata": {},
   "source": [
    "# While loop:\n",
    "•\tThe while loop in Python iterates over a code block if the test expression is true.\n",
    "•\tWe generally use this loop when we don’t know beforehand the number of times to iterate.\n",
    "•\tIn the while loop, the test expression is checked first. The loop's body is entered only if the test expression evaluates to true. After one iteration, the test expression is checked again. \n",
    "•\tThis process continues until the test expression evaluates to false. \n",
    "•\tIn Python, the body of the while loop is determined through indentation. \n",
    "•\tBody stats with indentation, and the first unidentified line marks the end. \n",
    "•\tPython interprets any non-zero values as true. None and 0 are interpreted as false. \n",
    "•\tSyntax: \n",
    "While test expression:\n",
    "\tbody of while\n",
    "•\tThe loop's body is entered only if the test expression evaluates to true. \n",
    "•\tAfter one iteration, the test expression is checked again. \n",
    "•\tThis process continues until the test expression evaluates to false. "
   ]
  },
  {
   "cell_type": "code",
   "execution_count": 1,
   "id": "4c9b74ea",
   "metadata": {},
   "outputs": [
    {
     "name": "stdout",
     "output_type": "stream",
     "text": [
      "0\n",
      "1\n",
      "2\n",
      "3\n",
      "4\n",
      "5\n",
      "6\n"
     ]
    }
   ],
   "source": [
    "# Multiple times loop\n",
    "x=0\n",
    "while x<=6:\n",
    "    print(x)\n",
    "    x=x+1"
   ]
  },
  {
   "cell_type": "code",
   "execution_count": 2,
   "id": "b8cb4ba6",
   "metadata": {},
   "outputs": [
    {
     "name": "stdout",
     "output_type": "stream",
     "text": [
      "0\n"
     ]
    }
   ],
   "source": [
    "# single time if \n",
    "x=0\n",
    "if x<=6:\n",
    "    print(x)\n",
    "    x=x+1"
   ]
  },
  {
   "cell_type": "code",
   "execution_count": 3,
   "id": "58d80ff1",
   "metadata": {},
   "outputs": [
    {
     "name": "stdout",
     "output_type": "stream",
     "text": [
      "7\n",
      "6\n",
      "5\n"
     ]
    }
   ],
   "source": [
    "x=8\n",
    "while x>=6:\n",
    "    x=x-1\n",
    "    print(x)"
   ]
  },
  {
   "cell_type": "code",
   "execution_count": 4,
   "id": "1a0c8d53",
   "metadata": {},
   "outputs": [
    {
     "name": "stdout",
     "output_type": "stream",
     "text": [
      "0 1\n",
      "1 2\n",
      "3 3\n",
      "6 4\n",
      "10 5\n",
      "15 6\n"
     ]
    }
   ],
   "source": [
    "i=0\n",
    "s=0\n",
    "while (i<=5):\n",
    "    s=s+i\n",
    "    i=i+1\n",
    "    print(s,i)"
   ]
  },
  {
   "cell_type": "code",
   "execution_count": 5,
   "id": "a5cf4ee8",
   "metadata": {},
   "outputs": [
    {
     "name": "stdout",
     "output_type": "stream",
     "text": [
      "[0, 1, 2, 3, 4, 5, 6, 7, 8, 9, 10, 11, 12, 13, 14, 15, 16, 17, 18, 19, 20, 21, 22, 23, 24, 25, 26, 27, 28, 29, 30, 31, 32, 33, 34, 35, 36, 37, 38, 39, 40, 41, 42, 43, 44, 45, 46, 47, 48, 49, 50, 51, 52, 53, 54, 55, 56, 57, 58, 59, 60, 61, 62, 63, 64, 65, 66, 67, 68, 69, 70, 71, 72, 73, 74, 75, 76, 77, 78, 79, 80, 81, 82, 83, 84, 85, 86, 87, 88, 89, 90, 91, 92, 93, 94, 95, 96, 97, 98, 99, 100] "
     ]
    }
   ],
   "source": [
    "print(list(range(0,101)), end=' ')\n",
    "#lists"
   ]
  },
  {
   "cell_type": "code",
   "execution_count": 6,
   "id": "d399c0c7",
   "metadata": {},
   "outputs": [
    {
     "name": "stdout",
     "output_type": "stream",
     "text": [
      "0 1 2 3 4 5 6 7 8 9 10 11 12 13 14 15 16 17 18 19 20 21 22 23 24 25 26 27 28 29 30 31 32 33 34 35 36 37 38 39 40 41 42 43 44 45 46 47 48 49 50 51 52 53 54 55 56 57 58 59 60 61 62 63 64 65 66 67 68 69 70 71 72 73 74 75 76 77 78 79 80 81 82 83 84 85 86 87 88 89 90 91 92 93 94 95 96 97 98 99 100 "
     ]
    }
   ],
   "source": [
    "for i in range(0,101):\n",
    "    print(i,end=' ')\n",
    "#for loops"
   ]
  },
  {
   "cell_type": "code",
   "execution_count": 7,
   "id": "05a993bc",
   "metadata": {},
   "outputs": [
    {
     "name": "stdout",
     "output_type": "stream",
     "text": [
      "1 2 3 4 5 6 7 8 9 10 11 12 13 14 15 16 17 18 19 20 21 22 23 24 25 26 27 28 29 30 31 32 33 34 35 36 37 38 39 40 41 42 43 44 45 46 47 48 49 50 51 52 53 54 55 56 57 58 59 60 61 62 63 64 65 66 67 68 69 70 71 72 73 74 75 76 77 78 79 80 81 82 83 84 85 86 87 88 89 90 91 92 93 94 95 96 97 98 99 100 101 "
     ]
    }
   ],
   "source": [
    "i=0\n",
    "while i<=100:\n",
    "    i=i+1\n",
    "    print(i, end=' ')\n",
    "#while loops"
   ]
  },
  {
   "cell_type": "code",
   "execution_count": 8,
   "id": "401afc68",
   "metadata": {},
   "outputs": [
    {
     "name": "stdout",
     "output_type": "stream",
     "text": [
      "Enter a Number: 3\n",
      "6\n"
     ]
    }
   ],
   "source": [
    "n=int(input('Enter a Number: '))\n",
    "s=0\n",
    "for i in range(1,n+1):\n",
    "    s=s+i\n",
    "print(s)"
   ]
  },
  {
   "cell_type": "code",
   "execution_count": 9,
   "id": "9fcfe723",
   "metadata": {},
   "outputs": [
    {
     "name": "stdout",
     "output_type": "stream",
     "text": [
      "Enter a Number: 3\n",
      "6\n"
     ]
    }
   ],
   "source": [
    "n=int(input('Enter a Number: '))\n",
    "s=0\n",
    "i=1\n",
    "while i<=n:\n",
    "    s=s+i\n",
    "    i=i+1\n",
    "print(s)"
   ]
  },
  {
   "cell_type": "code",
   "execution_count": 10,
   "id": "91f7fa9f",
   "metadata": {},
   "outputs": [
    {
     "name": "stdout",
     "output_type": "stream",
     "text": [
      "The product is: 144\n"
     ]
    }
   ],
   "source": [
    "a=[1,2,3,4,6]\n",
    "p=1\n",
    "i=0\n",
    "while i<len(a):\n",
    "    p=p*a[i]\n",
    "    i=i+1\n",
    "print('The product is:', p)"
   ]
  },
  {
   "cell_type": "code",
   "execution_count": 11,
   "id": "3b68d4ef",
   "metadata": {},
   "outputs": [
    {
     "name": "stdout",
     "output_type": "stream",
     "text": [
      "Enter your values once everything is completed, enter #\n",
      "Enter a value3\n",
      "Enter a value3\n",
      "Enter a value3\n",
      "Enter a value3\n",
      "Enter a value3\n",
      "Enter a value3\n",
      "Enter a value3\n",
      "Enter a value3\n",
      "Enter a value3\n",
      "Enter a value3\n",
      "Enter a value3\n",
      "Enter a value3\n",
      "Enter a value#\n",
      "36\n"
     ]
    }
   ],
   "source": [
    "print('Enter your values once everything is completed, enter #')\n",
    "s=0\n",
    "while True:\n",
    "    a=input('Enter a value')\n",
    "    if (a=='#'):\n",
    "        break\n",
    "    s=s+int(a)\n",
    "print(s)"
   ]
  },
  {
   "cell_type": "code",
   "execution_count": 12,
   "id": "4bcfd3ac",
   "metadata": {},
   "outputs": [
    {
     "name": "stdout",
     "output_type": "stream",
     "text": [
      "0\n",
      "1\n",
      "2\n",
      "3\n"
     ]
    }
   ],
   "source": [
    "numbers=[1,2,3,4,5,6]\n",
    "i=0\n",
    "while i<=len(numbers):\n",
    "    print(i)\n",
    "    i=i+1\n",
    "    if i==4:\n",
    "        break\n",
    "else:\n",
    "    print('No items left in the list')"
   ]
  },
  {
   "cell_type": "code",
   "execution_count": 13,
   "id": "8a02dd0a",
   "metadata": {},
   "outputs": [
    {
     "name": "stdout",
     "output_type": "stream",
     "text": [
      "x:  8\n",
      "x:  3\n",
      "-2 X is no longer greater than one\n"
     ]
    }
   ],
   "source": [
    "x=8\n",
    "while x>=1:\n",
    "    print('x: ', x)\n",
    "    x=x-5\n",
    "    if x==4:\n",
    "        break\n",
    "else:\n",
    "    print(x, 'X is no longer greater than one')"
   ]
  }
 ],
 "metadata": {
  "kernelspec": {
   "display_name": "Python 3 (ipykernel)",
   "language": "python",
   "name": "python3"
  },
  "language_info": {
   "codemirror_mode": {
    "name": "ipython",
    "version": 3
   },
   "file_extension": ".py",
   "mimetype": "text/x-python",
   "name": "python",
   "nbconvert_exporter": "python",
   "pygments_lexer": "ipython3",
   "version": "3.9.13"
  }
 },
 "nbformat": 4,
 "nbformat_minor": 5
}
