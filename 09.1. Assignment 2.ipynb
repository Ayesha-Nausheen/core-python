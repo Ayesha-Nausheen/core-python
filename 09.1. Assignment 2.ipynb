{
 "cells": [
  {
   "cell_type": "code",
   "execution_count": 1,
   "id": "fb1e3811",
   "metadata": {},
   "outputs": [
    {
     "name": "stdout",
     "output_type": "stream",
     "text": [
      "Enter your phone number:9985888462\n",
      "67\n",
      "13\n",
      "The sum of all the digits in your phone number in a single digit is:  4\n"
     ]
    }
   ],
   "source": [
    "number=input('Enter your phone number:')\n",
    "sum=0\n",
    "for i in number:\n",
    "    sum=sum+int(i)\n",
    "print(sum)\n",
    "if sum>9:\n",
    "    a=str(sum)\n",
    "    sum=int(a[0])+int(a[1])\n",
    "    print(sum)\n",
    "    if sum>9:\n",
    "        a=str(sum)\n",
    "        sum=int(a[0])+int(a[1])\n",
    "print('The sum of all the digits in your phone number in a single digit is: ',sum)"
   ]
  }
 ],
 "metadata": {
  "kernelspec": {
   "display_name": "Python 3 (ipykernel)",
   "language": "python",
   "name": "python3"
  },
  "language_info": {
   "codemirror_mode": {
    "name": "ipython",
    "version": 3
   },
   "file_extension": ".py",
   "mimetype": "text/x-python",
   "name": "python",
   "nbconvert_exporter": "python",
   "pygments_lexer": "ipython3",
   "version": "3.9.13"
  }
 },
 "nbformat": 4,
 "nbformat_minor": 5
}
