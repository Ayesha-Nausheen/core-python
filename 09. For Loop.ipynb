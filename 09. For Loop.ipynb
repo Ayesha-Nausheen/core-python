{
 "cells": [
  {
   "cell_type": "markdown",
   "id": "10d63cc6",
   "metadata": {},
   "source": [
    "LOOPS\n",
    "•\tThere may be a situation when you need to execute a block of code several times, to iterate over items or elements in a given sequence like strings, lists, tuples, or dictionaries.\n",
    "•\tIn general, statements are executed sequentially: the first statement in the function is executed first, followed by the second, and so on.\n",
    "\n",
    "Iterations or loops – repeated actions\n",
    "\n",
    "•\tFor Loop: Iterate for all items in iterating sequence.\n",
    "•\tWhile loop: until the condition satisfies."
   ]
  },
  {
   "cell_type": "markdown",
   "id": "916b4bee",
   "metadata": {},
   "source": [
    "FOR LOOP:\n",
    "•\tFor loop in Python is used to iterate over a sequence (lists, tuples, strings) or other iterable objects.\n",
    "•\tThe loop continues until we reach the last item in the sequence. \n",
    "•\tThe for loop body is separated from the rest of the code using indentation.\n",
    "•\tSyntax: \n",
    "For elements in sequence:\n",
    "\tBody of for\n",
    "•\tHere, the element is the variable that takes the item's value inside the sequence on each iteration.\n",
    "•\tThe loop continues until all items are completed in the sequence."
   ]
  },
  {
   "cell_type": "markdown",
   "id": "9950e6b4",
   "metadata": {},
   "source": [
    "o\tNested for loop:\n",
    "o\tLoops termination\n",
    "o\tBreak\n",
    "o\tContinue\n",
    "o\tFor loop with else"
   ]
  },
  {
   "cell_type": "code",
   "execution_count": 1,
   "id": "1cd9c3d0",
   "metadata": {},
   "outputs": [
    {
     "name": "stdout",
     "output_type": "stream",
     "text": [
      "1 6 16\n",
      "2 7 17\n",
      "3 8 18\n"
     ]
    }
   ],
   "source": [
    "i=1\n",
    "j=i+5\n",
    "k=j+10\n",
    "print(i,j,k)\n",
    "\n",
    "i=2\n",
    "j=i+5\n",
    "k=j+10\n",
    "print(i,j,k)\n",
    "\n",
    "i=3\n",
    "j=i+5\n",
    "k=j+10\n",
    "print(i,j,k)"
   ]
  },
  {
   "cell_type": "code",
   "execution_count": 2,
   "id": "5b43b4da",
   "metadata": {},
   "outputs": [
    {
     "name": "stdout",
     "output_type": "stream",
     "text": [
      "1 6 16\n",
      "2 7 17\n",
      "3 8 18\n"
     ]
    }
   ],
   "source": [
    "for i in range(1,4):\n",
    "    j=i+5\n",
    "    k=j+10\n",
    "    print(i,j,k)"
   ]
  },
  {
   "cell_type": "code",
   "execution_count": 3,
   "id": "6eac2296",
   "metadata": {},
   "outputs": [
    {
     "name": "stdout",
     "output_type": "stream",
     "text": [
      "1 6 16\n",
      "2 7 17\n",
      "3 8 18\n",
      "Ayesha\n"
     ]
    }
   ],
   "source": [
    "for i in range(1,4):\n",
    "    j=i+5\n",
    "    k=j+10\n",
    "    print(i,j,k)\n",
    "print(\"Ayesha\")"
   ]
  },
  {
   "cell_type": "code",
   "execution_count": 4,
   "id": "04035aa7",
   "metadata": {},
   "outputs": [
    {
     "name": "stdout",
     "output_type": "stream",
     "text": [
      "3 8 18\n"
     ]
    }
   ],
   "source": [
    "for i in range(1,4):\n",
    "    j=i+5\n",
    "    k=j+10\n",
    "print(i,j,k)"
   ]
  },
  {
   "cell_type": "markdown",
   "id": "f2e3fa3c",
   "metadata": {},
   "source": [
    "print all the numbers between 10 and 50(both inclusive)"
   ]
  },
  {
   "cell_type": "code",
   "execution_count": 5,
   "id": "7a09dc20",
   "metadata": {},
   "outputs": [
    {
     "name": "stdout",
     "output_type": "stream",
     "text": [
      "1 2 3 4 5 6 7 8 9 10 11 12 13 14 15 16 17 18 19 20 21 22 23 24 25 26 27 28 29 30 31 32 33 34 35 36 37 38 39 40 41 42 43 44 45 46 47 48 49 50 "
     ]
    }
   ],
   "source": [
    "for i in range(1,51):\n",
    "    print(i,end=\" \")"
   ]
  },
  {
   "cell_type": "markdown",
   "id": "e20a7284",
   "metadata": {},
   "source": [
    "print even numbers in descending order from 1 to 100"
   ]
  },
  {
   "cell_type": "code",
   "execution_count": 9,
   "id": "998e3afc",
   "metadata": {},
   "outputs": [
    {
     "name": "stdout",
     "output_type": "stream",
     "text": [
      "100 98 96 94 92 90 88 86 84 82 80 78 76 74 72 70 68 66 64 62 60 58 56 54 52 50 48 46 44 42 40 38 36 34 32 30 28 26 24 22 20 18 16 14 12 10 8 6 4 2 "
     ]
    }
   ],
   "source": [
    "for i in range(100,1,-2):\n",
    "    print(i,end=\" \")"
   ]
  },
  {
   "cell_type": "code",
   "execution_count": 7,
   "id": "46fa7c3e",
   "metadata": {},
   "outputs": [
    {
     "name": "stdout",
     "output_type": "stream",
     "text": [
      "1\n",
      "2\n",
      "3\n",
      "4\n",
      "5\n",
      "6\n",
      "7\n",
      "8\n",
      "9\n"
     ]
    }
   ],
   "source": [
    "for i in range(1,10):\n",
    "    print(i)"
   ]
  },
  {
   "cell_type": "code",
   "execution_count": 8,
   "id": "43e43a47",
   "metadata": {},
   "outputs": [
    {
     "name": "stdout",
     "output_type": "stream",
     "text": [
      "1@2@3@4@5@6@7@8@9@10@11@12@13@14@15@16@17@18@19@20@21@22@23@24@25@26@27@28@29@30@31@32@33@34@35@36@37@38@39@40@41@42@43@44@45@46@47@48@49@50@"
     ]
    }
   ],
   "source": [
    "for i in range(1,51):\n",
    "    print(i,end=\"@\")"
   ]
  },
  {
   "cell_type": "code",
   "execution_count": 10,
   "id": "35891efd",
   "metadata": {},
   "outputs": [
    {
     "name": "stdout",
     "output_type": "stream",
     "text": [
      "100 97 94 91 88 85 82 79 76 73 70 67 64 61 58 55 52 49 46 43 40 37 34 31 28 25 22 19 16 13 10 7 4 "
     ]
    }
   ],
   "source": [
    "for i in range(100,1,-3):\n",
    "    print(i,end=\" \")"
   ]
  },
  {
   "cell_type": "code",
   "execution_count": 11,
   "id": "e63e2bca",
   "metadata": {},
   "outputs": [
    {
     "name": "stdout",
     "output_type": "stream",
     "text": [
      "Enter starting Number: 2\n",
      "Enter ending Number: 20\n",
      "2\n",
      "4\n",
      "6\n",
      "8\n",
      "10\n",
      "12\n",
      "14\n",
      "16\n",
      "18\n",
      "20\n"
     ]
    }
   ],
   "source": [
    "start=(int(input(\"Enter starting Number: \")))\n",
    "end=(int(input(\"Enter ending Number: \")))\n",
    "for i in range(start, end+1):\n",
    "    if i%2==0:\n",
    "        print(i)\n",
    "# even numbers are considered"
   ]
  },
  {
   "cell_type": "code",
   "execution_count": 12,
   "id": "f88902ac",
   "metadata": {},
   "outputs": [
    {
     "name": "stdout",
     "output_type": "stream",
     "text": [
      "Enter starting Number: 2\n",
      "Enter ending Number: 20\n",
      "2\n",
      "4\n",
      "6\n",
      "8\n",
      "10\n",
      "12\n",
      "14\n",
      "16\n",
      "18\n",
      "20\n"
     ]
    }
   ],
   "source": [
    "start=(int(input(\"Enter starting Number: \")))\n",
    "end=(int(input(\"Enter ending Number: \")))\n",
    "for i in range(start, end+1, 2):\n",
    "    print(i)"
   ]
  },
  {
   "cell_type": "code",
   "execution_count": 13,
   "id": "edbdafa8",
   "metadata": {},
   "outputs": [
    {
     "name": "stdout",
     "output_type": "stream",
     "text": [
      "35\n",
      "70\n"
     ]
    }
   ],
   "source": [
    "for a in range(1,101):\n",
    "    if a%5==0 and a%7==0:\n",
    "        print(a)"
   ]
  },
  {
   "cell_type": "code",
   "execution_count": 14,
   "id": "df224006",
   "metadata": {},
   "outputs": [
    {
     "name": "stdout",
     "output_type": "stream",
     "text": [
      "1\n",
      "2\n",
      "3\n",
      "4\n",
      "5\n"
     ]
    }
   ],
   "source": [
    "ash=[1,2,3,4,5]\n",
    "for i in ash:\n",
    "    print(i)"
   ]
  },
  {
   "cell_type": "code",
   "execution_count": 15,
   "id": "bf58d766",
   "metadata": {},
   "outputs": [
    {
     "name": "stdout",
     "output_type": "stream",
     "text": [
      "11\n",
      "12\n",
      "13\n",
      "14\n",
      "15\n"
     ]
    }
   ],
   "source": [
    "seq=[1,2,3,4,5]\n",
    "for i in seq:\n",
    "    j=i+10\n",
    "    print(j)"
   ]
  },
  {
   "cell_type": "code",
   "execution_count": 16,
   "id": "ccd8cd42",
   "metadata": {},
   "outputs": [
    {
     "name": "stdout",
     "output_type": "stream",
     "text": [
      "1 11\n",
      "2 12\n",
      "3 13\n",
      "4 14\n",
      "5 15\n"
     ]
    }
   ],
   "source": [
    "seq=[1,2,3,4,5]\n",
    "for i in seq:\n",
    "    j=i+10\n",
    "    print(i, j)"
   ]
  },
  {
   "cell_type": "code",
   "execution_count": 17,
   "id": "84a0b5a3",
   "metadata": {},
   "outputs": [
    {
     "name": "stdout",
     "output_type": "stream",
     "text": [
      "1 11 YOLO\n",
      "2 12 YOLO\n",
      "3 13 YOLO\n",
      "4 14 YOLO\n",
      "5 15 YOLO\n"
     ]
    }
   ],
   "source": [
    "seq=[1,2,3,4,5]\n",
    "for i in seq:\n",
    "    j=i+10\n",
    "    print(i, j,'YOLO')"
   ]
  },
  {
   "cell_type": "code",
   "execution_count": 18,
   "id": "504a759c",
   "metadata": {},
   "outputs": [
    {
     "name": "stdout",
     "output_type": "stream",
     "text": [
      "5 15\n"
     ]
    }
   ],
   "source": [
    "seq=[1,2,3,4,5]\n",
    "for i in seq:\n",
    "    j=i+10\n",
    "print(i, j)"
   ]
  },
  {
   "cell_type": "code",
   "execution_count": 19,
   "id": "d1e436b6",
   "metadata": {},
   "outputs": [
    {
     "name": "stdout",
     "output_type": "stream",
     "text": [
      "ash\n",
      "ash\n",
      "ash\n",
      "ash\n",
      "ash\n"
     ]
    }
   ],
   "source": [
    "ash=[1,2,3,4,5]\n",
    "for item in ash:\n",
    "    print('ash')"
   ]
  },
  {
   "cell_type": "code",
   "execution_count": 20,
   "id": "55ca3780",
   "metadata": {},
   "outputs": [
    {
     "name": "stdout",
     "output_type": "stream",
     "text": [
      "item1 is at index 0\n",
      "item2 is at index 1\n",
      "item3 is at index 2\n",
      "item4 is at index 3\n"
     ]
    }
   ],
   "source": [
    "items=['item1','item2','item3','item4']\n",
    "for i in range(len(items)):\n",
    "    print(items[i],'is at index',i)"
   ]
  },
  {
   "cell_type": "code",
   "execution_count": 21,
   "id": "b839e4e8",
   "metadata": {},
   "outputs": [
    {
     "name": "stdout",
     "output_type": "stream",
     "text": [
      "101\n"
     ]
    }
   ],
   "source": [
    "i=[3,34,54,6,4]\n",
    "sum=0\n",
    "for i in i:\n",
    "    sum=sum+i\n",
    "print(sum)"
   ]
  },
  {
   "cell_type": "code",
   "execution_count": 22,
   "id": "dc2daf18",
   "metadata": {},
   "outputs": [
    {
     "name": "stdout",
     "output_type": "stream",
     "text": [
      "134\n"
     ]
    }
   ],
   "source": [
    "seq=[18,24,36,4,52]\n",
    "sum=0\n",
    "for item in seq:\n",
    "    sum=sum+item\n",
    "print(sum)"
   ]
  },
  {
   "cell_type": "code",
   "execution_count": 23,
   "id": "37b5e635",
   "metadata": {},
   "outputs": [
    {
     "name": "stdout",
     "output_type": "stream",
     "text": [
      "260\n"
     ]
    }
   ],
   "source": [
    "yolo=[1,2,3,4,5]\n",
    "sum=0\n",
    "for i in yolo:\n",
    "    sum=sum+item\n",
    "print(sum)"
   ]
  },
  {
   "cell_type": "code",
   "execution_count": 24,
   "id": "2512d0e2",
   "metadata": {},
   "outputs": [
    {
     "name": "stdout",
     "output_type": "stream",
     "text": [
      "1 52\n",
      "2 104\n",
      "3 156\n",
      "4 208\n",
      "5 260\n"
     ]
    }
   ],
   "source": [
    "yolo=[1,2,3,4,5]\n",
    "sum=0\n",
    "for i in yolo:\n",
    "    sum=sum+item\n",
    "    print(i, sum)"
   ]
  },
  {
   "cell_type": "code",
   "execution_count": 25,
   "id": "2d4cef88",
   "metadata": {},
   "outputs": [
    {
     "name": "stdout",
     "output_type": "stream",
     "text": [
      "24\n"
     ]
    }
   ],
   "source": [
    "h=[1,2,3,4]\n",
    "p=1\n",
    "for i in h:\n",
    "    p=p*i\n",
    "print(p)"
   ]
  },
  {
   "cell_type": "code",
   "execution_count": 26,
   "id": "a74ab51c",
   "metadata": {},
   "outputs": [
    {
     "name": "stdout",
     "output_type": "stream",
     "text": [
      "1\n",
      "2\n",
      "6\n",
      "24\n"
     ]
    }
   ],
   "source": [
    "h=[1,2,3,4]\n",
    "p=1\n",
    "for i in h:\n",
    "    p=p*i\n",
    "    print(p)"
   ]
  },
  {
   "cell_type": "code",
   "execution_count": 27,
   "id": "caeefff4",
   "metadata": {},
   "outputs": [
    {
     "name": "stdout",
     "output_type": "stream",
     "text": [
      "Enter lower bound values: 2\n",
      "Enter upper bound values: 20\n",
      "initial sum: 0\n",
      "after adding 2 the sum : 2\n",
      "after adding 4 the sum : 6\n",
      "after adding 6 the sum : 12\n",
      "after adding 8 the sum : 20\n",
      "after adding 10 the sum : 30\n",
      "after adding 12 the sum : 42\n",
      "after adding 14 the sum : 56\n",
      "after adding 16 the sum : 72\n",
      "after adding 18 the sum : 90\n",
      "after adding 20 the sum : 110\n",
      "\n",
      "sum is 110\n"
     ]
    }
   ],
   "source": [
    "lb=int(input('Enter lower bound values: '))\n",
    "ub=int(input('Enter upper bound values: '))\n",
    "s=0\n",
    "print('initial sum:',s)\n",
    "for i in range(lb,ub+1):\n",
    "    if (i%2==0):\n",
    "        s=s+i\n",
    "        print('after adding',i,'the sum :', s)\n",
    "print('\\nsum is', s)"
   ]
  },
  {
   "cell_type": "code",
   "execution_count": 28,
   "id": "b05a1cd8",
   "metadata": {},
   "outputs": [
    {
     "name": "stdout",
     "output_type": "stream",
     "text": [
      "Enter multiplication table: 3\n",
      "3 * 1 = 3\n",
      "3 * 2 = 6\n",
      "3 * 3 = 9\n",
      "3 * 4 = 12\n",
      "3 * 5 = 15\n",
      "3 * 6 = 18\n",
      "3 * 7 = 21\n",
      "3 * 8 = 24\n",
      "3 * 9 = 27\n",
      "3 * 10 = 30\n"
     ]
    }
   ],
   "source": [
    "a=int(input('Enter multiplication table: '))\n",
    "for i in range(1,11):\n",
    "    print(a,'*',i,'=',a*i)"
   ]
  },
  {
   "cell_type": "code",
   "execution_count": 29,
   "id": "8ceff088",
   "metadata": {},
   "outputs": [
    {
     "name": "stdout",
     "output_type": "stream",
     "text": [
      "23\n",
      "factorial of 23 is:  25852016738884976640000\n"
     ]
    }
   ],
   "source": [
    "a=int(input())\n",
    "fact=1\n",
    "for i in range(a,0,-1):\n",
    "    fact=fact*i\n",
    "print('factorial of',a,'is: ', fact)"
   ]
  },
  {
   "cell_type": "code",
   "execution_count": 30,
   "id": "a779ad98",
   "metadata": {},
   "outputs": [
    {
     "name": "stdout",
     "output_type": "stream",
     "text": [
      "3\n"
     ]
    },
    {
     "data": {
      "text/plain": [
       "6"
      ]
     },
     "execution_count": 30,
     "metadata": {},
     "output_type": "execute_result"
    }
   ],
   "source": [
    "a=int(input())\n",
    "import math\n",
    "math.factorial(a)"
   ]
  },
  {
   "cell_type": "code",
   "execution_count": 31,
   "id": "0a9b9212",
   "metadata": {},
   "outputs": [
    {
     "name": "stdout",
     "output_type": "stream",
     "text": [
      "i= 0 j= 0\n",
      "i= 0 j= 1\n",
      "i= 1 j= 0\n",
      "i= 1 j= 1\n",
      "i= 2 j= 0\n",
      "i= 2 j= 1\n"
     ]
    }
   ],
   "source": [
    "for i in range(3):\n",
    "    for j in range(2):\n",
    "        print('i=',i,'j=',j)"
   ]
  },
  {
   "cell_type": "code",
   "execution_count": 32,
   "id": "92ea7564",
   "metadata": {},
   "outputs": [
    {
     "name": "stdout",
     "output_type": "stream",
     "text": [
      "i= 0 j= 0\n",
      "i= 0 j= 1\n",
      "i= 1 j= 0\n",
      "i= 1 j= 1\n",
      "i= 2 j= 0\n",
      "i= 2 j= 1\n"
     ]
    }
   ],
   "source": [
    "for i in range(3):\n",
    "    for j in range(2):\n",
    "        print('i=',i,'j=',j)"
   ]
  },
  {
   "cell_type": "code",
   "execution_count": 33,
   "id": "86c32a23",
   "metadata": {},
   "outputs": [
    {
     "name": "stdout",
     "output_type": "stream",
     "text": [
      "ds\n",
      "ds\n",
      "ds\n",
      "ds\n"
     ]
    }
   ],
   "source": [
    "for i in range(2):\n",
    "    for j in range(2):\n",
    "        print('ds')"
   ]
  },
  {
   "cell_type": "code",
   "execution_count": 34,
   "id": "14e6eb8f",
   "metadata": {},
   "outputs": [
    {
     "name": "stdout",
     "output_type": "stream",
     "text": [
      "3\n"
     ]
    }
   ],
   "source": [
    "numbers=[1,2,3,4]\n",
    "for i in numbers:\n",
    "    if i==3:\n",
    "        break\n",
    "print(i)"
   ]
  },
  {
   "cell_type": "code",
   "execution_count": 35,
   "id": "75bcb823",
   "metadata": {},
   "outputs": [
    {
     "name": "stdout",
     "output_type": "stream",
     "text": [
      "2\n",
      "4\n"
     ]
    }
   ],
   "source": [
    "numbers=[1,2,3,4,5]\n",
    "for num in numbers:\n",
    "    if num%2==0:\n",
    "        print(num)\n",
    "        continue"
   ]
  },
  {
   "cell_type": "code",
   "execution_count": 36,
   "id": "b9a6acae",
   "metadata": {},
   "outputs": [
    {
     "name": "stdout",
     "output_type": "stream",
     "text": [
      "52\n",
      "52\n",
      "52\n",
      "52\n",
      "no items left in the list\n"
     ]
    }
   ],
   "source": [
    "numbers=[1, 2, 3, 4]\n",
    "for items in numbers:\n",
    "    print(item)\n",
    "    if item==5:\n",
    "        break\n",
    "else:\n",
    "    print('no items left in the list')"
   ]
  },
  {
   "cell_type": "code",
   "execution_count": 37,
   "id": "431eb1ac",
   "metadata": {},
   "outputs": [
    {
     "name": "stdout",
     "output_type": "stream",
     "text": [
      "52\n",
      "52\n",
      "52\n",
      "52\n",
      "no items left in the list\n"
     ]
    }
   ],
   "source": [
    "numbers=[1, 2, 3, 4]\n",
    "for items in numbers:\n",
    "    print(item)\n",
    "    if item==4:\n",
    "        break\n",
    "else:\n",
    "    print('no items left in the list')"
   ]
  }
 ],
 "metadata": {
  "kernelspec": {
   "display_name": "Python 3 (ipykernel)",
   "language": "python",
   "name": "python3"
  },
  "language_info": {
   "codemirror_mode": {
    "name": "ipython",
    "version": 3
   },
   "file_extension": ".py",
   "mimetype": "text/x-python",
   "name": "python",
   "nbconvert_exporter": "python",
   "pygments_lexer": "ipython3",
   "version": "3.9.13"
  }
 },
 "nbformat": 4,
 "nbformat_minor": 5
}
