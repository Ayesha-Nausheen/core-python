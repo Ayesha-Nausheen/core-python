{
 "cells": [
  {
   "cell_type": "markdown",
   "id": "b29e6fe4",
   "metadata": {},
   "source": [
    "# Conditional Statements (Control Flow Statements)"
   ]
  },
  {
   "cell_type": "markdown",
   "id": "8a8a1998",
   "metadata": {},
   "source": [
    "### 1. if\n",
    "### 2. if-else\n",
    "### 3. if-elif\n",
    "### 4. if-elif-else\n",
    "### 5. nested if"
   ]
  },
  {
   "cell_type": "markdown",
   "id": "74f640ba",
   "metadata": {},
   "source": [
    "# Block Structure\n",
    "- The code that is executed when a specific condition is met is defined in a \"block.\"\n",
    "- Statements preceding blocks generally end with a colon (:)\n",
    "- In Python, the block structure is signalled by changes in indentation.\n",
    "- Each line of code in a certain block level must be indented equally and indented more than the surrounding . \n",
    "- The standardlis to use 4 spaces for each level of block indentation."
   ]
  },
  {
   "cell_type": "markdown",
   "id": "d0a554b7",
   "metadata": {},
   "source": [
    "# if"
   ]
  },
  {
   "cell_type": "markdown",
   "id": "1964d356",
   "metadata": {},
   "source": [
    "## if statement syntax\n",
    "    #if test_expression/Condition:\n",
    "        #statements"
   ]
  },
  {
   "cell_type": "markdown",
   "id": "009b5e6c",
   "metadata": {},
   "source": [
    "##### * The program evaluates the test expression and will execute statements only if the text expression is True\n",
    "##### * If the text expression is False, the statements) is not executed."
   ]
  },
  {
   "cell_type": "code",
   "execution_count": 1,
   "id": "c79183fa",
   "metadata": {},
   "outputs": [
    {
     "name": "stdout",
     "output_type": "stream",
     "text": [
      "SRK\n",
      "ds\n"
     ]
    }
   ],
   "source": [
    "if 1<2:\n",
    "    print('SRK')\n",
    "    print('ds')"
   ]
  },
  {
   "cell_type": "code",
   "execution_count": 2,
   "id": "a79fa8d2",
   "metadata": {},
   "outputs": [
    {
     "name": "stdout",
     "output_type": "stream",
     "text": [
      "ds\n"
     ]
    }
   ],
   "source": [
    "if 1>2:\n",
    "    print('SRK')\n",
    "print('ds')"
   ]
  },
  {
   "cell_type": "markdown",
   "id": "f0f499db",
   "metadata": {},
   "source": [
    "### 2. if-else"
   ]
  },
  {
   "cell_type": "markdown",
   "id": "b5bd3c1c",
   "metadata": {},
   "source": [
    "•\tIf test expression:\n",
    "\tBody of of\n",
    "Else:\n",
    "\tBody of else\n"
   ]
  },
  {
   "cell_type": "code",
   "execution_count": 3,
   "id": "96894e0f",
   "metadata": {},
   "outputs": [
    {
     "name": "stdout",
     "output_type": "stream",
     "text": [
      "first\n"
     ]
    }
   ],
   "source": [
    "if 1<2:\n",
    "    print('first')\n",
    "else:\n",
    "    print('last')"
   ]
  },
  {
   "cell_type": "code",
   "execution_count": 4,
   "id": "cecbbf60",
   "metadata": {},
   "outputs": [
    {
     "name": "stdout",
     "output_type": "stream",
     "text": [
      "last\n"
     ]
    }
   ],
   "source": [
    "if 1>2:\n",
    "    print('first')\n",
    "else:\n",
    "    print('last')"
   ]
  },
  {
   "cell_type": "code",
   "execution_count": 5,
   "id": "415d4ec1",
   "metadata": {
    "scrolled": true
   },
   "outputs": [
    {
     "name": "stdout",
     "output_type": "stream",
     "text": [
      "Enter a Number: 3\n",
      "3 is odd number\n"
     ]
    }
   ],
   "source": [
    "x=int(input('Enter a Number: '))\n",
    "if (x%2==0):\n",
    "    print(x, 'is even number')\n",
    "else:\n",
    "    print(x, 'is odd number')"
   ]
  },
  {
   "cell_type": "code",
   "execution_count": 6,
   "id": "8b7bde2d",
   "metadata": {},
   "outputs": [
    {
     "name": "stdout",
     "output_type": "stream",
     "text": [
      "Enter a Number: 4\n",
      "4 is even number\n"
     ]
    }
   ],
   "source": [
    "x=int(input('Enter a Number: '))\n",
    "if (x%2==0):\n",
    "    print(x, 'is even number')\n",
    "else:\n",
    "    print(x, 'is odd number')"
   ]
  },
  {
   "cell_type": "markdown",
   "id": "44df4ca3",
   "metadata": {},
   "source": [
    "a,b,c,d=2,2,3,4\n",
    "if (a==b or c==d):\n",
    "    print('abc')\n",
    "else:\n",
    "    print('def')"
   ]
  },
  {
   "cell_type": "code",
   "execution_count": 7,
   "id": "f7e32695",
   "metadata": {},
   "outputs": [
    {
     "name": "stdout",
     "output_type": "stream",
     "text": [
      "def\n"
     ]
    }
   ],
   "source": [
    "a,b,c,d=1,2,3,4\n",
    "if (a==b or c==d):\n",
    "    print('abc')\n",
    "else:\n",
    "    print('def')"
   ]
  },
  {
   "cell_type": "markdown",
   "id": "aea897cf",
   "metadata": {},
   "source": [
    "3. if-elif"
   ]
  },
  {
   "cell_type": "markdown",
   "id": "ed0c57ba",
   "metadata": {},
   "source": [
    "•\tIf test expression:\n",
    "\tBody of if\n",
    "Elif test expression:\n",
    "\tBody of elif\n",
    "Else:\n",
    "\tBody of else"
   ]
  },
  {
   "cell_type": "code",
   "execution_count": 8,
   "id": "01a9ef5c",
   "metadata": {},
   "outputs": [
    {
     "name": "stdout",
     "output_type": "stream",
     "text": [
      "first\n"
     ]
    }
   ],
   "source": [
    "if 2==2:\n",
    "    print('first')\n",
    "elif 3!=3:\n",
    "    print('middle')"
   ]
  },
  {
   "cell_type": "markdown",
   "id": "da07abad",
   "metadata": {},
   "source": [
    "4.\tIF ELIF ELSE:"
   ]
  },
  {
   "cell_type": "markdown",
   "id": "9e832e36",
   "metadata": {},
   "source": [
    "•\tIf test expression:\n",
    "\tBody of if\n",
    "Elif test expression:\n",
    "\tBody of elif\n",
    "Else:\n",
    "\tBody of else"
   ]
  },
  {
   "cell_type": "code",
   "execution_count": 9,
   "id": "37f6b619",
   "metadata": {},
   "outputs": [
    {
     "name": "stdout",
     "output_type": "stream",
     "text": [
      "last\n"
     ]
    }
   ],
   "source": [
    "if 2!=2:\n",
    "    print('first')\n",
    "elif 3!=3:\n",
    "    print('middle')\n",
    "else:\n",
    "    print('last')"
   ]
  },
  {
   "cell_type": "code",
   "execution_count": 10,
   "id": "b11246b4",
   "metadata": {},
   "outputs": [
    {
     "name": "stdout",
     "output_type": "stream",
     "text": [
      "All is wrong with the world\n",
      "AN\n",
      "1\n",
      "21\n"
     ]
    }
   ],
   "source": [
    "if 1!=1:\n",
    "    print('whatever')\n",
    "elif 1==2:\n",
    "    print('likes')\n",
    "else:\n",
    "    print('All is wrong with the world')\n",
    "    print('AN')\n",
    "    a=int(input())\n",
    "    b=a+20\n",
    "    print(b)"
   ]
  },
  {
   "cell_type": "code",
   "execution_count": 11,
   "id": "9ea024fa",
   "metadata": {},
   "outputs": [
    {
     "name": "stdout",
     "output_type": "stream",
     "text": [
      "Enter your marks: 90\n",
      "Congratulations! You have achieved A grade\n"
     ]
    }
   ],
   "source": [
    "y=int(input(\"Enter your marks: \"))\n",
    "\n",
    "if y>90:\n",
    "    print(\"Congratulations! You have achieved A grade with distinction\")\n",
    "elif (y>75):\n",
    "    print(\"Congratulations! You have achieved A grade\")\n",
    "else:\n",
    "    print(\"Sorry, you have failed. Try again next time\")"
   ]
  },
  {
   "cell_type": "code",
   "execution_count": 12,
   "id": "a942549c",
   "metadata": {},
   "outputs": [
    {
     "name": "stdout",
     "output_type": "stream",
     "text": [
      "Enter your marks: 75\n",
      "Sorry, you have failed. Try again next time\n"
     ]
    }
   ],
   "source": [
    "y=int(input(\"Enter your marks: \"))\n",
    "\n",
    "if y>90:\n",
    "    print(\"Congratulations! You have achieved A grade with distinction\")\n",
    "elif (y>75):\n",
    "    print(\"Congratulations! You have achieved A grade\")\n",
    "else:\n",
    "    print(\"Sorry, you have failed. Try again next time\")"
   ]
  },
  {
   "cell_type": "code",
   "execution_count": 13,
   "id": "d69c8f58",
   "metadata": {},
   "outputs": [
    {
     "name": "stdout",
     "output_type": "stream",
     "text": [
      "Enter first number: 2\n",
      "Enter second number: 4\n",
      "Largest number is:  4\n"
     ]
    }
   ],
   "source": [
    "n1=int(input(\"Enter first number: \"))\n",
    "n2=int(input(\"Enter second number: \"))\n",
    "if n1>n2:\n",
    "    print('Largest number is: ', n1)\n",
    "elif n1==n2:\n",
    "    print('Both numbers are equal')\n",
    "else:\n",
    "    print('Largest number is: ', n2)"
   ]
  },
  {
   "cell_type": "markdown",
   "id": "36b59e59",
   "metadata": {},
   "source": [
    "5.\tNESTED IF:"
   ]
  },
  {
   "cell_type": "markdown",
   "id": "ca954340",
   "metadata": {},
   "source": [
    "•\tWe can have if-elif-else statement inside another if elif else statement its called nesting"
   ]
  },
  {
   "cell_type": "code",
   "execution_count": 14,
   "id": "c00213bd",
   "metadata": {},
   "outputs": [
    {
     "name": "stdout",
     "output_type": "stream",
     "text": [
      "Enter first number: 7\n",
      "Enter second number: 8\n",
      "Enter third number: 9\n",
      "9  is the largest number\n"
     ]
    }
   ],
   "source": [
    "n1=int(input(\"Enter first number: \"))\n",
    "n2=int(input(\"Enter second number: \"))\n",
    "n3=int(input(\"Enter third number: \"))\n",
    "if n1==n2==n3:\n",
    "    print('All numbers are equal')\n",
    "elif n1>n2 and n1>n3:\n",
    "    print(n1, ' is the largest number')\n",
    "elif n2>n3 and n2>n1:\n",
    "    print(n2, ' is the largest number')\n",
    "else:\n",
    "    print(n3, ' is the largest number')"
   ]
  },
  {
   "cell_type": "code",
   "execution_count": 15,
   "id": "f30a975c",
   "metadata": {},
   "outputs": [
    {
     "name": "stdout",
     "output_type": "stream",
     "text": [
      "Positive Number\n"
     ]
    }
   ],
   "source": [
    "num=4\n",
    "if num >= 0:\n",
    "    if num==0:\n",
    "        print('Zero')\n",
    "    else:\n",
    "        print('Positive Number')\n",
    "else:\n",
    "    print('Negative Number')"
   ]
  },
  {
   "cell_type": "code",
   "execution_count": 16,
   "id": "50a07c46",
   "metadata": {},
   "outputs": [
    {
     "name": "stdout",
     "output_type": "stream",
     "text": [
      "Enter your Pin: 1234\n",
      "Enter the amount to be withdrawn: 2000\n",
      "2000 Transaction Completed Successfully \n"
     ]
    }
   ],
   "source": [
    "amount=20000\n",
    "pin=1234\n",
    "if(int(input(\"Enter your Pin: \"))==pin):\n",
    "    withdraw=int(input(\"Enter the amount to be withdrawn: \"))\n",
    "    if (withdraw<=amount):\n",
    "        print(withdraw, \"Transaction Completed Successfully \")\n",
    "    else:\n",
    "        print(withdraw, \"Not Sufficient Funds in your Account \")\n",
    "else:\n",
    "    print(\"Invalid pin\")"
   ]
  }
 ],
 "metadata": {
  "kernelspec": {
   "display_name": "Python 3 (ipykernel)",
   "language": "python",
   "name": "python3"
  },
  "language_info": {
   "codemirror_mode": {
    "name": "ipython",
    "version": 3
   },
   "file_extension": ".py",
   "mimetype": "text/x-python",
   "name": "python",
   "nbconvert_exporter": "python",
   "pygments_lexer": "ipython3",
   "version": "3.9.13"
  }
 },
 "nbformat": 4,
 "nbformat_minor": 5
}
