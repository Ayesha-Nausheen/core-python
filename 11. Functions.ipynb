{
 "cells": [
  {
   "cell_type": "markdown",
   "id": "a6482fca",
   "metadata": {},
   "source": [
    "# Functions"
   ]
  },
  {
   "cell_type": "raw",
   "id": "48a828db",
   "metadata": {},
   "source": [
    "• Function is a group of related statements that perform a specific task.\n",
    "• A function is a set of statements that take inputs, do some specific computation and produces output.\n",
    "• It avoids repetition and makes code reusable.\n",
    "• If we use functions written by others in the form of library, it can be termed as library functions."
   ]
  },
  {
   "cell_type": "raw",
   "id": "6630f940",
   "metadata": {},
   "source": [
    "Types Of Functions\n",
    "1. InBuilt Functions\n",
    "2. User-defined Functions"
   ]
  },
  {
   "cell_type": "markdown",
   "id": "1bd7cf1d",
   "metadata": {},
   "source": [
    "## 1. InBuilt Functions"
   ]
  },
  {
   "cell_type": "code",
   "execution_count": 1,
   "id": "395da1b3",
   "metadata": {},
   "outputs": [
    {
     "data": {
      "text/plain": [
       "10"
      ]
     },
     "execution_count": 1,
     "metadata": {},
     "output_type": "execute_result"
    }
   ],
   "source": [
    "abs(-10)"
   ]
  },
  {
   "cell_type": "markdown",
   "id": "6e86ad95",
   "metadata": {},
   "source": [
    "## 2. User-defined Functions\n",
    "• Functions that we define ourselves to do certain specific task are referred as user-defined functions"
   ]
  },
  {
   "cell_type": "raw",
   "id": "e7424e3c",
   "metadata": {},
   "source": [
    "Advantages\n",
    "1. User-defined functions help to decompose a large program into small segments which makes program easy to understand, maintain and debug.\n",
    "2. If repeated code occurs in a program. Function can be used to include those codes and execute when needed by calling that function.\n",
    "3. Programmars working on large project can divide the workload by making different functions."
   ]
  },
  {
   "cell_type": "raw",
   "id": "2270eaa0",
   "metadata": {},
   "source": [
    "Syntax for function\n",
    "def function_name(parameters):\n",
    "    '''\n",
    "    doc string\n",
    "    '''\n",
    "    function body(statements)\n",
    "    \n",
    "    return[expression]"
   ]
  },
  {
   "cell_type": "raw",
   "id": "ffa5ccc1",
   "metadata": {},
   "source": [
    "1. keyword \"def marks the start of function header\n",
    "2. Parameters (arguments) through which we pass values to a function. These are optional\n",
    "3. A colon(:) to mark the end of funciton header\n",
    "4. Doc string describe what the function does. This is optional\n",
    "5. \"return\" statement to return a value from the function. This is optional\n",
    "return"
   ]
  },
  {
   "cell_type": "raw",
   "id": "c3e30971",
   "metadata": {},
   "source": [
    "• The return statement is used to exit a function and go back to the place from where it was called.\n",
    "• return statement can containan expression which gets evaluated and the value is returned.\n",
    "•if there is no expression in the statement or the retur statement itself is not present inside a function, \n",
    "then the function will return None Object"
   ]
  },
  {
   "cell_type": "code",
   "execution_count": 1,
   "id": "e65030f0",
   "metadata": {},
   "outputs": [],
   "source": [
    "#defining a function\n",
    "def add(a,b):\n",
    "    c=a+b\n",
    "    \"\"\"\n",
    "    this function returns the sum of two numbers a,b\n",
    "    \"\"\"\n",
    "    c=a+b\n",
    "    return c"
   ]
  },
  {
   "cell_type": "code",
   "execution_count": 2,
   "id": "8a1c457e",
   "metadata": {},
   "outputs": [
    {
     "data": {
      "text/plain": [
       "7"
      ]
     },
     "execution_count": 2,
     "metadata": {},
     "output_type": "execute_result"
    }
   ],
   "source": [
    "#calling a function\n",
    "add(3,4)"
   ]
  },
  {
   "cell_type": "code",
   "execution_count": 3,
   "id": "bfca1725",
   "metadata": {},
   "outputs": [],
   "source": [
    "def sum_4(a,b,c,d):\n",
    "    return a+b+c+d"
   ]
  },
  {
   "cell_type": "code",
   "execution_count": 4,
   "id": "8af771a8",
   "metadata": {},
   "outputs": [
    {
     "data": {
      "text/plain": [
       "16"
      ]
     },
     "execution_count": 4,
     "metadata": {},
     "output_type": "execute_result"
    }
   ],
   "source": [
    "sum_4(2,3,5,6)"
   ]
  },
  {
   "cell_type": "code",
   "execution_count": 6,
   "id": "5d0e337d",
   "metadata": {},
   "outputs": [
    {
     "data": {
      "text/plain": [
       "202"
      ]
     },
     "execution_count": 6,
     "metadata": {},
     "output_type": "execute_result"
    }
   ],
   "source": [
    "sum_4(45,67,57,33)"
   ]
  },
  {
   "cell_type": "code",
   "execution_count": 7,
   "id": "8882aa1e",
   "metadata": {},
   "outputs": [
    {
     "data": {
      "text/plain": [
       "20"
      ]
     },
     "execution_count": 7,
     "metadata": {},
     "output_type": "execute_result"
    }
   ],
   "source": [
    "def double(srk):\n",
    "    r=2*srk\n",
    "    return r\n",
    "double(10)"
   ]
  },
  {
   "cell_type": "code",
   "execution_count": 8,
   "id": "e285c30f",
   "metadata": {},
   "outputs": [
    {
     "data": {
      "text/plain": [
       "200"
      ]
     },
     "execution_count": 8,
     "metadata": {},
     "output_type": "execute_result"
    }
   ],
   "source": [
    "double(100)"
   ]
  },
  {
   "cell_type": "code",
   "execution_count": 9,
   "id": "5ada758c",
   "metadata": {},
   "outputs": [
    {
     "name": "stdout",
     "output_type": "stream",
     "text": [
      "35\n",
      "70\n"
     ]
    }
   ],
   "source": [
    "for num in range(1,100):\n",
    "    if num%5==0 and num%7==0:\n",
    "        print(num)"
   ]
  },
  {
   "cell_type": "code",
   "execution_count": 10,
   "id": "eced5ad4",
   "metadata": {},
   "outputs": [
    {
     "name": "stdout",
     "output_type": "stream",
     "text": [
      "35\n",
      "70\n",
      "105\n",
      "140\n",
      "175\n"
     ]
    }
   ],
   "source": [
    "for num in range(1,200):\n",
    "    if num%5==0 and num%7==0:\n",
    "        print(num)"
   ]
  },
  {
   "cell_type": "code",
   "execution_count": 11,
   "id": "ad52445c",
   "metadata": {},
   "outputs": [
    {
     "name": "stdout",
     "output_type": "stream",
     "text": [
      "35\n",
      "70\n",
      "105\n",
      "140\n",
      "175\n",
      "210\n",
      "245\n",
      "280\n"
     ]
    }
   ],
   "source": [
    "for num in range(1,300):\n",
    "    if num%5==0 and num%7==0:\n",
    "        print(num)"
   ]
  },
  {
   "cell_type": "code",
   "execution_count": 12,
   "id": "b5495bd0",
   "metadata": {},
   "outputs": [],
   "source": [
    "def num_5_7(i):\n",
    "    for num in range(1,i):\n",
    "        if num%5==0 and num%7==0:\n",
    "            print(num)"
   ]
  },
  {
   "cell_type": "code",
   "execution_count": 13,
   "id": "0f321b6e",
   "metadata": {},
   "outputs": [
    {
     "name": "stdout",
     "output_type": "stream",
     "text": [
      "35\n",
      "70\n"
     ]
    }
   ],
   "source": [
    "num_5_7(100)"
   ]
  },
  {
   "cell_type": "code",
   "execution_count": 14,
   "id": "ad6cfb7b",
   "metadata": {},
   "outputs": [
    {
     "name": "stdout",
     "output_type": "stream",
     "text": [
      "35\n",
      "70\n",
      "105\n",
      "140\n",
      "175\n"
     ]
    }
   ],
   "source": [
    "num_5_7(200)"
   ]
  },
  {
   "cell_type": "code",
   "execution_count": 15,
   "id": "f581dc36",
   "metadata": {},
   "outputs": [
    {
     "name": "stdout",
     "output_type": "stream",
     "text": [
      "35\n",
      "70\n",
      "105\n",
      "140\n",
      "175\n",
      "210\n",
      "245\n",
      "280\n"
     ]
    }
   ],
   "source": [
    "num_5_7(300)"
   ]
  },
  {
   "cell_type": "code",
   "execution_count": 16,
   "id": "c292efde",
   "metadata": {},
   "outputs": [],
   "source": [
    "def pre(x):\n",
    "    y=x+2\n",
    "    print(y)\n"
   ]
  },
  {
   "cell_type": "code",
   "execution_count": 17,
   "id": "be7fc3c4",
   "metadata": {},
   "outputs": [
    {
     "name": "stdout",
     "output_type": "stream",
     "text": [
      "4\n"
     ]
    }
   ],
   "source": [
    "pre(2)"
   ]
  },
  {
   "cell_type": "code",
   "execution_count": 18,
   "id": "76d09b72",
   "metadata": {},
   "outputs": [
    {
     "name": "stdout",
     "output_type": "stream",
     "text": [
      "7\n"
     ]
    }
   ],
   "source": [
    "pre(5)"
   ]
  },
  {
   "cell_type": "code",
   "execution_count": 19,
   "id": "aac23cf2",
   "metadata": {},
   "outputs": [],
   "source": [
    "def num_x(x):\n",
    "    if (x%2==0):\n",
    "        print(x, 'is even number')\n",
    "    else:\n",
    "        print(x, 'is odd number')"
   ]
  },
  {
   "cell_type": "code",
   "execution_count": 20,
   "id": "5a7ca66b",
   "metadata": {},
   "outputs": [
    {
     "name": "stdout",
     "output_type": "stream",
     "text": [
      "Enter a Number: 2\n",
      "2 is even number\n"
     ]
    }
   ],
   "source": [
    "x=int(input('Enter a Number: '))\n",
    "num_x(x)"
   ]
  },
  {
   "cell_type": "code",
   "execution_count": 21,
   "id": "7623fba5",
   "metadata": {},
   "outputs": [
    {
     "name": "stdout",
     "output_type": "stream",
     "text": [
      "Enter a Number: 3\n",
      "3 is odd number\n"
     ]
    }
   ],
   "source": [
    "x=int(input('Enter a Number: '))\n",
    "num_x(x)"
   ]
  },
  {
   "cell_type": "code",
   "execution_count": 22,
   "id": "56d96452",
   "metadata": {},
   "outputs": [
    {
     "name": "stdout",
     "output_type": "stream",
     "text": [
      "10\n"
     ]
    }
   ],
   "source": [
    "a=[1,2,3,4]\n",
    "sum=0\n",
    "for num in a:\n",
    "    sum=sum+num\n",
    "print(sum)"
   ]
  },
  {
   "cell_type": "code",
   "execution_count": 23,
   "id": "61a68518",
   "metadata": {},
   "outputs": [],
   "source": [
    "def ash_a(a):\n",
    "    sum=0\n",
    "    for num in a:\n",
    "        sum=sum+num\n",
    "    print(sum)"
   ]
  },
  {
   "cell_type": "code",
   "execution_count": 24,
   "id": "ab98b2c9",
   "metadata": {},
   "outputs": [
    {
     "name": "stdout",
     "output_type": "stream",
     "text": [
      "10\n"
     ]
    }
   ],
   "source": [
    "a=[1,2,3,4]\n",
    "ash_a(a)"
   ]
  },
  {
   "cell_type": "code",
   "execution_count": 25,
   "id": "0fa40885",
   "metadata": {},
   "outputs": [
    {
     "name": "stdout",
     "output_type": "stream",
     "text": [
      "24\n"
     ]
    }
   ],
   "source": [
    "a=[3,5,7,9]\n",
    "ash_a(a)"
   ]
  },
  {
   "cell_type": "code",
   "execution_count": 26,
   "id": "104f1c18",
   "metadata": {},
   "outputs": [
    {
     "name": "stdout",
     "output_type": "stream",
     "text": [
      "37 32\n"
     ]
    }
   ],
   "source": [
    "l=[1,14,15,12,9,7,6,5] \n",
    "e_s=0\n",
    "o_s=0\n",
    "for i in l:\n",
    "    if i%2==0:\n",
    "        e_s=e_s+i\n",
    "    else:\n",
    "        o_s=o_s+i\n",
    "print(o_s,e_s)"
   ]
  },
  {
   "cell_type": "code",
   "execution_count": 27,
   "id": "c3631dea",
   "metadata": {},
   "outputs": [],
   "source": [
    "def even_odd_sum(a):\n",
    "    even_sum=0\n",
    "    odd_sum=0\n",
    "    for i in a:\n",
    "        if i%2==0:\n",
    "            even_sum=even_sum+i\n",
    "        else:\n",
    "            odd_sum=odd_sum+i\n",
    "    print(even_sum,odd_sum)"
   ]
  },
  {
   "cell_type": "code",
   "execution_count": 28,
   "id": "5e73d193",
   "metadata": {},
   "outputs": [
    {
     "name": "stdout",
     "output_type": "stream",
     "text": [
      "32 37\n"
     ]
    }
   ],
   "source": [
    "a=[1,14,15,12,9,7,6,5] \n",
    "even_odd_sum(a)"
   ]
  },
  {
   "cell_type": "code",
   "execution_count": 29,
   "id": "3b1ba9ef",
   "metadata": {},
   "outputs": [
    {
     "name": "stdout",
     "output_type": "stream",
     "text": [
      "42 36\n"
     ]
    }
   ],
   "source": [
    "a=[10,14,15,12,9,7,6,5] \n",
    "even_odd_sum(a)"
   ]
  },
  {
   "cell_type": "raw",
   "id": "6126394c",
   "metadata": {},
   "source": [
    "the output of function can be saved when it has return\n",
    "the output of function cannot be saved when it has print()"
   ]
  },
  {
   "cell_type": "markdown",
   "id": "5e6bf9bd",
   "metadata": {},
   "source": [
    "## Different types of input arguments \n",
    "1. Function with No arguments \n",
    "2. Positional argument\n",
    "3. Default argument \n",
    "4. Keyword argument \n",
    "5. Arbitrary argument\n",
    "\n",
    "Other Category\n",
    "1. Iterative Function\n",
    "2. Recussive Function or Recursion"
   ]
  },
  {
   "cell_type": "markdown",
   "id": "83a9b673",
   "metadata": {},
   "source": [
    "### 1. Function with No arguments "
   ]
  },
  {
   "cell_type": "code",
   "execution_count": 30,
   "id": "8b0cacd2",
   "metadata": {},
   "outputs": [],
   "source": [
    "def even_num():\n",
    "    lb=int(input('Enter lower bound values: '))\n",
    "    ub=int(input('Enter upper bound values: '))\n",
    "    for i in range(lb,ub+1):\n",
    "        if i%2==0:\n",
    "            print(i)"
   ]
  },
  {
   "cell_type": "code",
   "execution_count": 31,
   "id": "3071a385",
   "metadata": {},
   "outputs": [
    {
     "name": "stdout",
     "output_type": "stream",
     "text": [
      "Enter lower bound values: 1\n",
      "Enter upper bound values: 5\n",
      "2\n",
      "4\n"
     ]
    }
   ],
   "source": [
    "even_num()"
   ]
  },
  {
   "cell_type": "code",
   "execution_count": 32,
   "id": "7a9926d3",
   "metadata": {},
   "outputs": [],
   "source": [
    "def ash(a):\n",
    "    for i in range(1,11):\n",
    "        if i%2!=0:\n",
    "            print(i)"
   ]
  },
  {
   "cell_type": "code",
   "execution_count": 33,
   "id": "3242f801",
   "metadata": {},
   "outputs": [
    {
     "name": "stdout",
     "output_type": "stream",
     "text": [
      "1\n",
      "3\n",
      "5\n",
      "7\n",
      "9\n"
     ]
    }
   ],
   "source": [
    "ash(1000)"
   ]
  },
  {
   "cell_type": "markdown",
   "id": "ae177978",
   "metadata": {},
   "source": [
    "### 2. Positional arguments "
   ]
  },
  {
   "cell_type": "code",
   "execution_count": 34,
   "id": "426129cd",
   "metadata": {},
   "outputs": [],
   "source": [
    "def greet(name, msg):\n",
    "    print('Hello', name, msg)"
   ]
  },
  {
   "cell_type": "code",
   "execution_count": 35,
   "id": "203ed188",
   "metadata": {},
   "outputs": [
    {
     "name": "stdout",
     "output_type": "stream",
     "text": [
      "Hello Ayesha Good Morning\n"
     ]
    }
   ],
   "source": [
    "greet('Ayesha','Good Morning')"
   ]
  },
  {
   "cell_type": "code",
   "execution_count": 36,
   "id": "18fff870",
   "metadata": {},
   "outputs": [
    {
     "name": "stdout",
     "output_type": "stream",
     "text": [
      "Hello Kulsum Good Night\n"
     ]
    }
   ],
   "source": [
    "greet('Kulsum','Good Night')"
   ]
  },
  {
   "cell_type": "markdown",
   "id": "e2f9591d",
   "metadata": {},
   "source": [
    "### 3. Default arguments "
   ]
  },
  {
   "cell_type": "code",
   "execution_count": 37,
   "id": "6907584b",
   "metadata": {},
   "outputs": [],
   "source": [
    "def greet(name, msg='Good Morning'):\n",
    "    print('Hello', name, msg)"
   ]
  },
  {
   "cell_type": "code",
   "execution_count": 38,
   "id": "088a2fa3",
   "metadata": {},
   "outputs": [
    {
     "name": "stdout",
     "output_type": "stream",
     "text": [
      "Hello Ayesha Good Evening\n"
     ]
    }
   ],
   "source": [
    "greet('Ayesha','Good Evening')"
   ]
  },
  {
   "cell_type": "code",
   "execution_count": 39,
   "id": "2c4f63d7",
   "metadata": {},
   "outputs": [
    {
     "name": "stdout",
     "output_type": "stream",
     "text": [
      "Hello Ayesha Good Morning\n"
     ]
    }
   ],
   "source": [
    "greet('Ayesha')"
   ]
  },
  {
   "cell_type": "code",
   "execution_count": 40,
   "id": "31c2b46b",
   "metadata": {},
   "outputs": [
    {
     "name": "stdout",
     "output_type": "stream",
     "text": [
      "10 20 30\n"
     ]
    }
   ],
   "source": [
    "print(10,20,30)"
   ]
  },
  {
   "cell_type": "code",
   "execution_count": 41,
   "id": "62a45d80",
   "metadata": {},
   "outputs": [
    {
     "name": "stdout",
     "output_type": "stream",
     "text": [
      "10,20,30\n"
     ]
    }
   ],
   "source": [
    "print(10,20,30, sep=\",\")"
   ]
  },
  {
   "cell_type": "markdown",
   "id": "297d6a0c",
   "metadata": {},
   "source": [
    "### 4. Keyword arguments "
   ]
  },
  {
   "cell_type": "code",
   "execution_count": 42,
   "id": "811a8082",
   "metadata": {},
   "outputs": [],
   "source": [
    "def greet(name, msg):\n",
    "    print('Hello', name, msg)"
   ]
  },
  {
   "cell_type": "code",
   "execution_count": 43,
   "id": "a2e1acf5",
   "metadata": {},
   "outputs": [
    {
     "name": "stdout",
     "output_type": "stream",
     "text": [
      "Hello Ayesha Good Morning\n"
     ]
    }
   ],
   "source": [
    "greet(msg='Good Morning', name='Ayesha')"
   ]
  },
  {
   "cell_type": "code",
   "execution_count": 44,
   "id": "e6291fcb",
   "metadata": {},
   "outputs": [],
   "source": [
    "def s_e(a,b,c):\n",
    "    d=a+b*c\n",
    "    return d"
   ]
  },
  {
   "cell_type": "code",
   "execution_count": 45,
   "id": "7eb47634",
   "metadata": {},
   "outputs": [
    {
     "data": {
      "text/plain": [
       "9"
      ]
     },
     "execution_count": 45,
     "metadata": {},
     "output_type": "execute_result"
    }
   ],
   "source": [
    "s_e(c=1,a=5,b=4)"
   ]
  },
  {
   "cell_type": "markdown",
   "id": "ddb8545d",
   "metadata": {},
   "source": [
    "### 5. Arbitrary arguments "
   ]
  },
  {
   "cell_type": "code",
   "execution_count": 46,
   "id": "587a0a85",
   "metadata": {},
   "outputs": [],
   "source": [
    "def greet(*names):\n",
    "    for i in names:\n",
    "        print('Hello', i)"
   ]
  },
  {
   "cell_type": "code",
   "execution_count": 47,
   "id": "d1234dba",
   "metadata": {},
   "outputs": [
    {
     "name": "stdout",
     "output_type": "stream",
     "text": [
      "Hello Ayesha\n",
      "Hello Kulsum\n",
      "Hello Zeba\n"
     ]
    }
   ],
   "source": [
    "greet('Ayesha','Kulsum','Zeba')"
   ]
  },
  {
   "cell_type": "markdown",
   "id": "9bef4fa5",
   "metadata": {},
   "source": [
    " # Recussive Function or Recursion"
   ]
  },
  {
   "cell_type": "code",
   "execution_count": 48,
   "id": "5e2ffa38",
   "metadata": {},
   "outputs": [
    {
     "data": {
      "text/plain": [
       "120"
      ]
     },
     "execution_count": 48,
     "metadata": {},
     "output_type": "execute_result"
    }
   ],
   "source": [
    "def fact(n):\n",
    "    if n<=1:\n",
    "        return 1\n",
    "    else:\n",
    "        return n*fact(n-1)\n",
    "fact(5)"
   ]
  },
  {
   "cell_type": "code",
   "execution_count": 49,
   "id": "e5a358a4",
   "metadata": {},
   "outputs": [
    {
     "data": {
      "text/plain": [
       "120"
      ]
     },
     "execution_count": 49,
     "metadata": {},
     "output_type": "execute_result"
    }
   ],
   "source": [
    "import math\n",
    "math.factorial(5)"
   ]
  },
  {
   "cell_type": "markdown",
   "id": "d8528cdb",
   "metadata": {},
   "source": [
    "# Python Program for calculator"
   ]
  },
  {
   "cell_type": "code",
   "execution_count": 50,
   "id": "7b3c7287",
   "metadata": {},
   "outputs": [
    {
     "name": "stdout",
     "output_type": "stream",
     "text": [
      "Select Options\n",
      "1. Addition\n",
      "2. Subtraction\n",
      "3. Multiplication\n",
      "4. Division\n",
      "Enter choice 1/2/3/4: 1\n",
      "Enter First number: 1\n",
      "Enter Second number: 1\n",
      "Addition of 1 and 1 id 2\n"
     ]
    }
   ],
   "source": [
    "def add(a,b):\n",
    "    return a+b\n",
    "def multiply(a,b):\n",
    "    return a*b\n",
    "def subtract(a,b):\n",
    "    return a-b\n",
    "def division(a,b):\n",
    "    return a/b\n",
    "\n",
    "print('Select Options')\n",
    "print('1. Addition')\n",
    "print('2. Subtraction')\n",
    "print('3. Multiplication')\n",
    "print('4. Division')\n",
    "\n",
    "choice=int(input('Enter choice 1/2/3/4: '))\n",
    "num1=int(input('Enter First number: '))\n",
    "num2=int(input('Enter Second number: '))\n",
    "\n",
    "if choice==1:\n",
    "    print('Addition of {} and {} id {}'.format(num1, num2, add(num1, num2)))\n",
    "elif choice==2:\n",
    "    print('Subtraction of {} and {} id {}'.format(num1, num2, subtract(num1, num2)))\n",
    "elif choice==3:\n",
    "    print('Multiplication of {} and {} id {}'.format(num1, num2, division(num1, num2)))\n",
    "else:\n",
    "    print('Invalid Choice')"
   ]
  },
  {
   "cell_type": "code",
   "execution_count": 51,
   "id": "0feb067e",
   "metadata": {},
   "outputs": [
    {
     "name": "stdout",
     "output_type": "stream",
     "text": [
      "Enter choice 1/2/3/4: 2\n",
      "Enter First number: 2\n",
      "Enter Second number: 2\n",
      "Subtraction of 2 and 2 id 0\n"
     ]
    }
   ],
   "source": [
    "choice=int(input('Enter choice 1/2/3/4: '))\n",
    "num1=int(input('Enter First number: '))\n",
    "num2=int(input('Enter Second number: '))\n",
    "\n",
    "if choice==1:\n",
    "    print('Addition of {} and {} id {}'.format(num1, num2, add(num1, num2)))\n",
    "elif choice==2:\n",
    "    print('Subtraction of {} and {} id {}'.format(num1, num2, subtract(num1, num2)))\n",
    "elif choice==3:\n",
    "    print('Multiplication of {} and {} id {}'.format(num1, num2, division(num1, num2)))\n",
    "else:\n",
    "    print('Invalid Choice')"
   ]
  },
  {
   "cell_type": "code",
   "execution_count": 52,
   "id": "49c72336",
   "metadata": {},
   "outputs": [
    {
     "name": "stdout",
     "output_type": "stream",
     "text": [
      "Enter choice 1/2/3/4: 3\n",
      "Enter First number: 3\n",
      "Enter Second number: 3\n",
      "Multiplication of 3 and 3 id 1.0\n"
     ]
    }
   ],
   "source": [
    "choice=int(input('Enter choice 1/2/3/4: '))\n",
    "num1=int(input('Enter First number: '))\n",
    "num2=int(input('Enter Second number: '))\n",
    "\n",
    "if choice==1:\n",
    "    print('Addition of {} and {} id {}'.format(num1, num2, add(num1, num2)))\n",
    "elif choice==2:\n",
    "    print('Subtraction of {} and {} id {}'.format(num1, num2, subtract(num1, num2)))\n",
    "elif choice==3:\n",
    "    print('Multiplication of {} and {} id {}'.format(num1, num2, division(num1, num2)))\n",
    "else:\n",
    "    print('Invalid Choice')"
   ]
  },
  {
   "cell_type": "code",
   "execution_count": 53,
   "id": "246ef30e",
   "metadata": {},
   "outputs": [
    {
     "name": "stdout",
     "output_type": "stream",
     "text": [
      "Enter choice 1/2/3/4: 4\n",
      "Enter First number: 4\n",
      "Enter Second number: 4\n",
      "Invalid Choice\n"
     ]
    }
   ],
   "source": [
    "choice=int(input('Enter choice 1/2/3/4: '))\n",
    "num1=int(input('Enter First number: '))\n",
    "num2=int(input('Enter Second number: '))\n",
    "\n",
    "if choice==1:\n",
    "    print('Addition of {} and {} id {}'.format(num1, num2, add(num1, num2)))\n",
    "elif choice==2:\n",
    "    print('Subtraction of {} and {} id {}'.format(num1, num2, subtract(num1, num2)))\n",
    "elif choice==3:\n",
    "    print('Multiplication of {} and {} id {}'.format(num1, num2, division(num1, num2)))\n",
    "else:\n",
    "    print('Invalid Choice')"
   ]
  }
 ],
 "metadata": {
  "kernelspec": {
   "display_name": "Python 3 (ipykernel)",
   "language": "python",
   "name": "python3"
  },
  "language_info": {
   "codemirror_mode": {
    "name": "ipython",
    "version": 3
   },
   "file_extension": ".py",
   "mimetype": "text/x-python",
   "name": "python",
   "nbconvert_exporter": "python",
   "pygments_lexer": "ipython3",
   "version": "3.11.5"
  }
 },
 "nbformat": 4,
 "nbformat_minor": 5
}
