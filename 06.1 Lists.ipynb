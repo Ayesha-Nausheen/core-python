{
 "cells": [
  {
   "cell_type": "markdown",
   "id": "e3cf4ff9",
   "metadata": {},
   "source": [
    "# DATA STRUCTURE"
   ]
  },
  {
   "cell_type": "markdown",
   "id": "45c5d1ce",
   "metadata": {},
   "source": [
    "### Advanced Datatypes/ Data Structures/ Containers (Can store multiple values)\n",
    "### These are of two types a) In built b) user defined\n",
    "### In built\n",
    "    1. lists - [1,2,3]\n",
    "    2. Tuples - (1,2,3)\n",
    "    3. Sets - {1,2,3}\n",
    "    4. Dictionaries - {1:'Audi',2:'Maruti'}\n",
    "### User defined\n",
    "    1. stack\n",
    "    2. queue\n",
    "    3. tree \n",
    "    4. linked list"
   ]
  },
  {
   "cell_type": "markdown",
   "id": "708c7e4c",
   "metadata": {},
   "source": [
    "# Lists\n",
    "-It is one of the most used datatypes in python and is very flexible\n",
    "\n",
    "functions in this: append, count, copy, remove, clear"
   ]
  },
  {
   "cell_type": "markdown",
   "id": "ba33bbcf",
   "metadata": {},
   "source": [
    "## Empty List\n",
    "-To create an empty list,you can use empty square brackets or use the list() function with no arguments"
   ]
  },
  {
   "cell_type": "code",
   "execution_count": 1,
   "id": "9883ad26",
   "metadata": {},
   "outputs": [
    {
     "data": {
      "text/plain": [
       "0"
      ]
     },
     "execution_count": 1,
     "metadata": {},
     "output_type": "execute_result"
    }
   ],
   "source": [
    "l=[]\n",
    "len(l)"
   ]
  },
  {
   "cell_type": "code",
   "execution_count": 2,
   "id": "5ee6ad75",
   "metadata": {},
   "outputs": [
    {
     "data": {
      "text/plain": [
       "[]"
      ]
     },
     "execution_count": 2,
     "metadata": {},
     "output_type": "execute_result"
    }
   ],
   "source": [
    "l=list()\n",
    "l"
   ]
  },
  {
   "cell_type": "code",
   "execution_count": 3,
   "id": "ba0dbd4d",
   "metadata": {},
   "outputs": [
    {
     "data": {
      "text/plain": [
       "[10]"
      ]
     },
     "execution_count": 3,
     "metadata": {},
     "output_type": "execute_result"
    }
   ],
   "source": [
    "l.append(10)\n",
    "l"
   ]
  },
  {
   "cell_type": "markdown",
   "id": "4d696d5a",
   "metadata": {},
   "source": [
    "lists are ordered sequence of items\n",
    "each element or value that is inside of a list is called item\n",
    "declaring a list is items seperated by commas are enclosed within brackets[]"
   ]
  },
  {
   "cell_type": "code",
   "execution_count": 4,
   "id": "9f30f56c",
   "metadata": {},
   "outputs": [
    {
     "data": {
      "text/plain": [
       "[1, 2, 3, 4, 2.3]"
      ]
     },
     "execution_count": 4,
     "metadata": {},
     "output_type": "execute_result"
    }
   ],
   "source": [
    "l=[1,2,3,4]\n",
    "l.append(2.3)\n",
    "l\n",
    "#each value in list is called as items\n",
    "#lists are enclosed in square brackets"
   ]
  },
  {
   "cell_type": "code",
   "execution_count": 5,
   "id": "cea23922",
   "metadata": {},
   "outputs": [
    {
     "data": {
      "text/plain": [
       "[1, 2, 3, 4, (1+24j), True, False, 'Sasha']"
      ]
     },
     "execution_count": 5,
     "metadata": {},
     "output_type": "execute_result"
    }
   ],
   "source": [
    "l1=[1,2,3,4,1+24j, True, False, \"Sasha\"]\n",
    "l1\n",
    "#lists are heterogenous"
   ]
  },
  {
   "cell_type": "code",
   "execution_count": 6,
   "id": "24a54478",
   "metadata": {},
   "outputs": [
    {
     "data": {
      "text/plain": [
       "8"
      ]
     },
     "execution_count": 6,
     "metadata": {},
     "output_type": "execute_result"
    }
   ],
   "source": [
    "len(l1)"
   ]
  },
  {
   "cell_type": "code",
   "execution_count": 7,
   "id": "d65e3a1e",
   "metadata": {},
   "outputs": [
    {
     "data": {
      "text/plain": [
       "[1, 2, 'a', [2, 3, 4.4], 3]"
      ]
     },
     "execution_count": 7,
     "metadata": {},
     "output_type": "execute_result"
    }
   ],
   "source": [
    "#Create nested list\n",
    "a=[1,2,'a',[2,3,4.4],3]\n",
    "a"
   ]
  },
  {
   "cell_type": "code",
   "execution_count": 8,
   "id": "ef2d89e9",
   "metadata": {},
   "outputs": [
    {
     "name": "stdout",
     "output_type": "stream",
     "text": [
      "[1, 2, [3, 4], 5, 6]\n"
     ]
    }
   ],
   "source": [
    "nest=[1,2,[3,4],5,6]\n",
    "print(nest)"
   ]
  },
  {
   "cell_type": "code",
   "execution_count": 8,
   "id": "6f728921",
   "metadata": {},
   "outputs": [
    {
     "data": {
      "text/plain": [
       "5"
      ]
     },
     "execution_count": 8,
     "metadata": {},
     "output_type": "execute_result"
    }
   ],
   "source": [
    "len(nest)"
   ]
  },
  {
   "cell_type": "code",
   "execution_count": 9,
   "id": "80a18f59",
   "metadata": {},
   "outputs": [
    {
     "data": {
      "text/plain": [
       "1"
      ]
     },
     "execution_count": 9,
     "metadata": {},
     "output_type": "execute_result"
    }
   ],
   "source": [
    "nest[0]"
   ]
  },
  {
   "cell_type": "code",
   "execution_count": 10,
   "id": "cc7fdf18",
   "metadata": {},
   "outputs": [
    {
     "data": {
      "text/plain": [
       "2"
      ]
     },
     "execution_count": 10,
     "metadata": {},
     "output_type": "execute_result"
    }
   ],
   "source": [
    "nest[1]"
   ]
  },
  {
   "cell_type": "code",
   "execution_count": 11,
   "id": "6f4858cf",
   "metadata": {},
   "outputs": [
    {
     "data": {
      "text/plain": [
       "[3, 4]"
      ]
     },
     "execution_count": 11,
     "metadata": {},
     "output_type": "execute_result"
    }
   ],
   "source": [
    "nest[2]"
   ]
  },
  {
   "cell_type": "code",
   "execution_count": 12,
   "id": "0ac84283",
   "metadata": {},
   "outputs": [
    {
     "data": {
      "text/plain": [
       "3"
      ]
     },
     "execution_count": 12,
     "metadata": {},
     "output_type": "execute_result"
    }
   ],
   "source": [
    "nest[2][0]"
   ]
  },
  {
   "cell_type": "code",
   "execution_count": 9,
   "id": "b2eb316f",
   "metadata": {},
   "outputs": [
    {
     "data": {
      "text/plain": [
       "4"
      ]
     },
     "execution_count": 9,
     "metadata": {},
     "output_type": "execute_result"
    }
   ],
   "source": [
    "nest[2][1]"
   ]
  },
  {
   "cell_type": "code",
   "execution_count": 10,
   "id": "098705bc",
   "metadata": {},
   "outputs": [
    {
     "data": {
      "text/plain": [
       "5"
      ]
     },
     "execution_count": 10,
     "metadata": {},
     "output_type": "execute_result"
    }
   ],
   "source": [
    "nest[3]"
   ]
  },
  {
   "cell_type": "code",
   "execution_count": 11,
   "id": "83bbe1f2",
   "metadata": {},
   "outputs": [
    {
     "data": {
      "text/plain": [
       "6"
      ]
     },
     "execution_count": 11,
     "metadata": {},
     "output_type": "execute_result"
    }
   ],
   "source": [
    "nest[4]"
   ]
  },
  {
   "cell_type": "code",
   "execution_count": 12,
   "id": "e7c3e360",
   "metadata": {},
   "outputs": [
    {
     "ename": "IndexError",
     "evalue": "list index out of range",
     "output_type": "error",
     "traceback": [
      "\u001b[0;31m---------------------------------------------------------------------------\u001b[0m",
      "\u001b[0;31mIndexError\u001b[0m                                Traceback (most recent call last)",
      "Cell \u001b[0;32mIn[12], line 1\u001b[0m\n\u001b[0;32m----> 1\u001b[0m nest[\u001b[38;5;241m5\u001b[39m]\n",
      "\u001b[0;31mIndexError\u001b[0m: list index out of range"
     ]
    }
   ],
   "source": [
    "nest[5]"
   ]
  },
  {
   "cell_type": "code",
   "execution_count": 13,
   "id": "0f13aea2",
   "metadata": {},
   "outputs": [
    {
     "data": {
      "text/plain": [
       "[1, 2, [3, 4, [5, 6], 7, 8], 9, 10]"
      ]
     },
     "execution_count": 13,
     "metadata": {},
     "output_type": "execute_result"
    }
   ],
   "source": [
    "a2=[1,2,[3,4,[5,6],7,8],9,10]\n",
    "a2"
   ]
  },
  {
   "cell_type": "code",
   "execution_count": 14,
   "id": "5e0bd185",
   "metadata": {},
   "outputs": [
    {
     "data": {
      "text/plain": [
       "[3, 4, [5, 6], 7, 8]"
      ]
     },
     "execution_count": 14,
     "metadata": {},
     "output_type": "execute_result"
    }
   ],
   "source": [
    "a2[2]"
   ]
  },
  {
   "cell_type": "code",
   "execution_count": 15,
   "id": "01d6a826",
   "metadata": {},
   "outputs": [
    {
     "data": {
      "text/plain": [
       "3"
      ]
     },
     "execution_count": 15,
     "metadata": {},
     "output_type": "execute_result"
    }
   ],
   "source": [
    "a2[2][0]"
   ]
  },
  {
   "cell_type": "code",
   "execution_count": 16,
   "id": "287be1f1",
   "metadata": {},
   "outputs": [
    {
     "data": {
      "text/plain": [
       "4"
      ]
     },
     "execution_count": 16,
     "metadata": {},
     "output_type": "execute_result"
    }
   ],
   "source": [
    "a2[2][1]"
   ]
  },
  {
   "cell_type": "code",
   "execution_count": 17,
   "id": "a41adff6",
   "metadata": {},
   "outputs": [
    {
     "data": {
      "text/plain": [
       "[5, 6]"
      ]
     },
     "execution_count": 17,
     "metadata": {},
     "output_type": "execute_result"
    }
   ],
   "source": [
    "a2[2][2]"
   ]
  },
  {
   "cell_type": "code",
   "execution_count": 18,
   "id": "76b7542b",
   "metadata": {},
   "outputs": [
    {
     "data": {
      "text/plain": [
       "5"
      ]
     },
     "execution_count": 18,
     "metadata": {},
     "output_type": "execute_result"
    }
   ],
   "source": [
    "a2[2][2][0]"
   ]
  },
  {
   "cell_type": "code",
   "execution_count": 19,
   "id": "6dff6806",
   "metadata": {},
   "outputs": [
    {
     "data": {
      "text/plain": [
       "6"
      ]
     },
     "execution_count": 19,
     "metadata": {},
     "output_type": "execute_result"
    }
   ],
   "source": [
    "a2[2][2][1]"
   ]
  },
  {
   "cell_type": "code",
   "execution_count": 20,
   "id": "549e85a5",
   "metadata": {},
   "outputs": [
    {
     "data": {
      "text/plain": [
       "7"
      ]
     },
     "execution_count": 20,
     "metadata": {},
     "output_type": "execute_result"
    }
   ],
   "source": [
    "a2[2][3]"
   ]
  },
  {
   "cell_type": "code",
   "execution_count": 21,
   "id": "d0d5e16b",
   "metadata": {},
   "outputs": [
    {
     "data": {
      "text/plain": [
       "8"
      ]
     },
     "execution_count": 21,
     "metadata": {},
     "output_type": "execute_result"
    }
   ],
   "source": [
    "a2[2][4]"
   ]
  },
  {
   "cell_type": "code",
   "execution_count": 22,
   "id": "4188f2f3",
   "metadata": {},
   "outputs": [
    {
     "data": {
      "text/plain": [
       "9"
      ]
     },
     "execution_count": 22,
     "metadata": {},
     "output_type": "execute_result"
    }
   ],
   "source": [
    "a2[3]"
   ]
  },
  {
   "cell_type": "code",
   "execution_count": 23,
   "id": "5d28472b",
   "metadata": {},
   "outputs": [
    {
     "data": {
      "text/plain": [
       "10"
      ]
     },
     "execution_count": 23,
     "metadata": {},
     "output_type": "execute_result"
    }
   ],
   "source": [
    "a2[4]"
   ]
  },
  {
   "cell_type": "markdown",
   "id": "e43af8da",
   "metadata": {},
   "source": [
    "# lists are mutable"
   ]
  },
  {
   "cell_type": "code",
   "execution_count": 24,
   "id": "3adcd033",
   "metadata": {},
   "outputs": [
    {
     "data": {
      "text/plain": [
       "[1, 3, 4, 2, 6]"
      ]
     },
     "execution_count": 24,
     "metadata": {},
     "output_type": "execute_result"
    }
   ],
   "source": [
    "a=[1,3,4,2,6]\n",
    "a"
   ]
  },
  {
   "cell_type": "code",
   "execution_count": 25,
   "id": "62eacc12",
   "metadata": {},
   "outputs": [
    {
     "data": {
      "text/plain": [
       "4418882880"
      ]
     },
     "execution_count": 25,
     "metadata": {},
     "output_type": "execute_result"
    }
   ],
   "source": [
    "id(a)"
   ]
  },
  {
   "cell_type": "code",
   "execution_count": 26,
   "id": "e9b4dd98",
   "metadata": {},
   "outputs": [
    {
     "data": {
      "text/plain": [
       "[1, 100, 4, 2, 6]"
      ]
     },
     "execution_count": 26,
     "metadata": {},
     "output_type": "execute_result"
    }
   ],
   "source": [
    "a[1]=100\n",
    "a"
   ]
  },
  {
   "cell_type": "code",
   "execution_count": 27,
   "id": "d36f3d99",
   "metadata": {},
   "outputs": [
    {
     "data": {
      "text/plain": [
       "4418882880"
      ]
     },
     "execution_count": 27,
     "metadata": {},
     "output_type": "execute_result"
    }
   ],
   "source": [
    "id(a)"
   ]
  },
  {
   "cell_type": "code",
   "execution_count": 28,
   "id": "0fdc3274",
   "metadata": {},
   "outputs": [
    {
     "data": {
      "text/plain": [
       "['x', 'y', 'z']"
      ]
     },
     "execution_count": 28,
     "metadata": {},
     "output_type": "execute_result"
    }
   ],
   "source": [
    "l1=[\"x\"]\n",
    "l2=[\"y\"]\n",
    "l3=[\"z\"]\n",
    "l4=l1+l2+l3\n",
    "l4"
   ]
  },
  {
   "cell_type": "code",
   "execution_count": 29,
   "id": "71e7b0e3",
   "metadata": {},
   "outputs": [
    {
     "data": {
      "text/plain": [
       "['b', 'c']"
      ]
     },
     "execution_count": 29,
     "metadata": {},
     "output_type": "execute_result"
    }
   ],
   "source": [
    "a=[\"b\",\"c\"]\n",
    "a"
   ]
  },
  {
   "cell_type": "code",
   "execution_count": 30,
   "id": "e833e302",
   "metadata": {},
   "outputs": [
    {
     "data": {
      "text/plain": [
       "['b', 'c', 'd']"
      ]
     },
     "execution_count": 30,
     "metadata": {},
     "output_type": "execute_result"
    }
   ],
   "source": [
    "a.append(\"d\")\n",
    "a"
   ]
  },
  {
   "cell_type": "code",
   "execution_count": 32,
   "id": "135b77f0",
   "metadata": {},
   "outputs": [
    {
     "data": {
      "text/plain": [
       "['b', 'c', 'd', ['e', 'f']]"
      ]
     },
     "execution_count": 32,
     "metadata": {},
     "output_type": "execute_result"
    }
   ],
   "source": [
    "a.append([\"e\",\"f\"])\n",
    "a"
   ]
  },
  {
   "cell_type": "code",
   "execution_count": 33,
   "id": "00e64e60",
   "metadata": {},
   "outputs": [
    {
     "data": {
      "text/plain": [
       "[1, 2, 3, 4, 5, 6, 7, 8]"
      ]
     },
     "execution_count": 33,
     "metadata": {},
     "output_type": "execute_result"
    }
   ],
   "source": [
    "l=[1,2,3,4]\n",
    "l.extend([5,6,7,8])\n",
    "l"
   ]
  },
  {
   "cell_type": "code",
   "execution_count": 34,
   "id": "3dccacf7",
   "metadata": {},
   "outputs": [
    {
     "data": {
      "text/plain": [
       "[1, 2, 3, 4, 5, 6, [7, 8], 9, 10]"
      ]
     },
     "execution_count": 34,
     "metadata": {},
     "output_type": "execute_result"
    }
   ],
   "source": [
    "m=[1,2,3,4]\n",
    "m.extend([5,6,[7,8],9,10])\n"
   ]
  },
  {
   "cell_type": "code",
   "execution_count": 35,
   "id": "04ae8d5d",
   "metadata": {},
   "outputs": [
    {
     "data": {
      "text/plain": [
       "[1, 2, 3, 4, [5, 6, [7, 8], 9, 10]]"
      ]
     },
     "execution_count": 35,
     "metadata": {},
     "output_type": "execute_result"
    }
   ],
   "source": [
    "m=[1,2,3,4]\n",
    "m.append([5,6,[7,8],9,10])\n",
    "m"
   ]
  },
  {
   "cell_type": "code",
   "execution_count": null,
   "id": "9ac95f3f",
   "metadata": {},
   "outputs": [],
   "source": [
    "Sisters=[\"Humera\",\"Sameera\",\"Sana\",\"Zeba\",\"Uzma\"]\n",
    "Sisters.insert(4,\"Ayesha\")\n",
    "Sisters\n",
    "# First add position and then add the value you want to insert"
   ]
  },
  {
   "cell_type": "code",
   "execution_count": null,
   "id": "0083ea25",
   "metadata": {},
   "outputs": [],
   "source": [
    "Sisters=[\"Humera\",\"Sameera\",\"Sana\",\"Zeba\",\"Ayesha\",\"Uzma\",\"xyz\"]\n",
    "Sisters.remove(\"xyz\")\n",
    "Sisters"
   ]
  },
  {
   "cell_type": "code",
   "execution_count": null,
   "id": "20284429",
   "metadata": {},
   "outputs": [],
   "source": [
    "Sisters=[\"Humera\",\"Sameera\",\"Sana\",\"Zeba\",\"Ayesha\",\"Uzma\",\"xyz\"]\n",
    "Sisters.pop(6)\n",
    "Sisters"
   ]
  },
  {
   "cell_type": "code",
   "execution_count": null,
   "id": "dc28ab84",
   "metadata": {},
   "outputs": [],
   "source": [
    "Sisters=[\"Humera\",\"Sameera\",\"Sana\",\"Zeba\",\"Ayesha\",\"Uzma\",\"xyz\",\"abc\"]\n",
    "del Sisters[6:8]\n",
    "Sisters"
   ]
  },
  {
   "cell_type": "code",
   "execution_count": null,
   "id": "283c0f73",
   "metadata": {},
   "outputs": [],
   "source": [
    "Sisters=[\"Humera\",\"Sameera\",\"Sana\",\"Zeba\",\"Ayesha\",\"Uzma\",\"xyz\"]\n",
    "Sisters.clear()\n",
    "Sisters"
   ]
  },
  {
   "cell_type": "code",
   "execution_count": null,
   "id": "5c0bdda7",
   "metadata": {},
   "outputs": [],
   "source": [
    "Sisters=[\"Humera\",\"Sameera\",\"Sana\",\"Zeba\",\"Ayesha\",\"Uzma\",\"xyz\"]\n",
    "Sisters.clear()\n",
    "Sisters\n",
    "Sisters.extend([\"Humera\",\"Sameera\",\"Sana\",\"Zeba\",\"Ayesha\",\"Uzma\"])\n",
    "Sisters"
   ]
  },
  {
   "cell_type": "code",
   "execution_count": null,
   "id": "1ea6ea49",
   "metadata": {},
   "outputs": [],
   "source": [
    "Sisters=[\"Humera\",\"Sameera\",\"Sana\",\"Zeba\",\"Ayesha\",\"Uzma\"]\n",
    "Sisters.reverse()\n",
    "Sisters"
   ]
  },
  {
   "cell_type": "code",
   "execution_count": null,
   "id": "2cfbf9ac",
   "metadata": {},
   "outputs": [],
   "source": [
    "a=[1,54,65,34,32,7,567,56,765]\n",
    "a.sort()\n",
    "a"
   ]
  },
  {
   "cell_type": "code",
   "execution_count": null,
   "id": "0184e72b",
   "metadata": {},
   "outputs": [],
   "source": [
    "a.sort(reverse=True)\n",
    "a"
   ]
  },
  {
   "cell_type": "code",
   "execution_count": null,
   "id": "646e8777",
   "metadata": {},
   "outputs": [],
   "source": [
    "Sisters=[\"Humera\",\"Sameera\",\"Sana\",\"Zeba\",\"Ayesha\",\"Uzma\"]\n",
    "Sisters.sort()\n",
    "Sisters"
   ]
  },
  {
   "cell_type": "code",
   "execution_count": null,
   "id": "383d369a",
   "metadata": {},
   "outputs": [],
   "source": [
    "Sisters=[\"Humera\",\"Sameera\",\"Sana\",\"Zeba\",\"Ayesha\",\"Uzma\"]\n",
    "Sisters.sort(reverse=True)\n",
    "Sisters"
   ]
  },
  {
   "cell_type": "code",
   "execution_count": null,
   "id": "0923edfe",
   "metadata": {},
   "outputs": [],
   "source": [
    "Sisters=[\"Humera\",1,\"Sameera\",2,\"Sana\",3,\"Zeba\",4,\"Ayesha\",5,\"Uzma\",6]\n",
    "Sisters.sort()\n",
    "Sisters\n",
    "#Intergers and strings together cannot be sorted"
   ]
  },
  {
   "cell_type": "code",
   "execution_count": null,
   "id": "a3c6c431",
   "metadata": {},
   "outputs": [],
   "source": [
    "k=[1,1,2,2,3,3,3,4,4,4,4,5]\n",
    "print(k.count(3))"
   ]
  },
  {
   "cell_type": "code",
   "execution_count": 23,
   "id": "3a68d100",
   "metadata": {},
   "outputs": [
    {
     "name": "stdout",
     "output_type": "stream",
     "text": [
      "[1, 2, 3, 4, 5, 6]\n",
      "[1, 2, 3, 4, 5, 6]\n"
     ]
    },
    {
     "data": {
      "text/plain": [
       "True"
      ]
     },
     "execution_count": 23,
     "metadata": {},
     "output_type": "execute_result"
    }
   ],
   "source": [
    "#Shallow copy: changes made are reflected in the final object\n",
    "g1=[1,2,3,4,5]\n",
    "g2=g1\n",
    "g2.append(6)\n",
    "print(g1)\n",
    "print(g2)\n",
    "g1 == g2"
   ]
  },
  {
   "cell_type": "code",
   "execution_count": 25,
   "id": "72935474",
   "metadata": {},
   "outputs": [
    {
     "name": "stdout",
     "output_type": "stream",
     "text": [
      "[1, 2, 3, 4, 5]\n",
      "[1, 2, 3, 4, 5]\n"
     ]
    },
    {
     "data": {
      "text/plain": [
       "True"
      ]
     },
     "execution_count": 25,
     "metadata": {},
     "output_type": "execute_result"
    }
   ],
   "source": [
    "#Deep copy/Carbon copy: changes made are not reflected in the final copy\n",
    "k1=[1,2,3,4,5]\n",
    "k2=g1.copy()\n",
    "g2.append(6)\n",
    "print(k1)\n",
    "print(k2)\n",
    "k1 == k2"
   ]
  },
  {
   "cell_type": "code",
   "execution_count": null,
   "id": "0f2b189e",
   "metadata": {},
   "outputs": [],
   "source": [
    "\n",
    "\n"
   ]
  }
 ],
 "metadata": {
  "kernelspec": {
   "display_name": "Python 3 (ipykernel)",
   "language": "python",
   "name": "python3"
  },
  "language_info": {
   "codemirror_mode": {
    "name": "ipython",
    "version": 3
   },
   "file_extension": ".py",
   "mimetype": "text/x-python",
   "name": "python",
   "nbconvert_exporter": "python",
   "pygments_lexer": "ipython3",
   "version": "3.11.5"
  }
 },
 "nbformat": 4,
 "nbformat_minor": 5
}
