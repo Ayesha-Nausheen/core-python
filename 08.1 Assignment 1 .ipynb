{
 "cells": [
  {
   "cell_type": "code",
   "execution_count": 1,
   "id": "ae6bb7b1",
   "metadata": {},
   "outputs": [
    {
     "name": "stdout",
     "output_type": "stream",
     "text": [
      "Enter your weight in kgs: 45\n",
      "What is your preferred unit of height, Type f for feet and m for meters: m\n",
      "Enter your height in meters: 1.5\n",
      "Your BMI is: 20.0\n",
      "You are Normal Weight\n"
     ]
    }
   ],
   "source": [
    "Weight_in_kgs=int(input(\"Enter your weight in kgs: \"))\n",
    "Weight_in_kgs\n",
    "Preferred_unit_of_height=input('What is your preferred unit of height, Type f for feet and m for meters: ')\n",
    "if (Preferred_unit_of_height=='f'):\n",
    "    f=int(input('First enter feet: '))\n",
    "    f\n",
    "    i=int(input('Now enter inches: '))\n",
    "\n",
    "else:\n",
    "    Height=float((input('Enter your height in meters: ')))\n",
    "\n",
    "if (Preferred_unit_of_height=='f'):\n",
    "    H=(f*12+i)\n",
    "    Height_in_cms=(H*2.540)\n",
    "    Height_in_meters=(Height_in_cms/100)\n",
    "    BMI=Weight_in_kgs/(Height_in_meters**2)\n",
    "    print('Your BMI is:', BMI)\n",
    "else:\n",
    "    BMI=Weight_in_kgs/(Height**2)\n",
    "    print('Your BMI is:', BMI)\n",
    "\n",
    "\n",
    "\n",
    "if BMI<18.5:\n",
    "    print('You are Under weight')\n",
    "elif 18.5<=BMI<25:\n",
    "    print('You are Normal Weight')\n",
    "elif 25<=BMI<30:\n",
    "    print('You are Over weight')\n",
    "elif BMI>30:\n",
    "    print('You are Obese')"
   ]
  },
  {
   "cell_type": "code",
   "execution_count": 2,
   "id": "7f7a8ba9",
   "metadata": {},
   "outputs": [
    {
     "name": "stdout",
     "output_type": "stream",
     "text": [
      "Enter your weight in kgs: 45\n",
      "What is your preferred unit of height, Type f for feet and m for meters: f\n",
      "First enter feet: 4\n",
      "Now enter inches: 11\n",
      "Your BMI is: 20.037385665118926\n",
      "You are Normal Weight\n"
     ]
    }
   ],
   "source": [
    "Weight_in_kgs=int(input(\"Enter your weight in kgs: \"))\n",
    "Weight_in_kgs\n",
    "Preferred_unit_of_height=input('What is your preferred unit of height, Type f for feet and m for meters: ')\n",
    "if (Preferred_unit_of_height=='f'):\n",
    "    f=int(input('First enter feet: '))\n",
    "    f\n",
    "    i=int(input('Now enter inches: '))\n",
    "\n",
    "else:\n",
    "    Height=float((input('Enter your height in meters: ')))\n",
    "\n",
    "if (Preferred_unit_of_height=='f'):\n",
    "    H=(f*12+i)\n",
    "    Height_in_cms=(H*2.540)\n",
    "    Height_in_meters=(Height_in_cms/100)\n",
    "    BMI=Weight_in_kgs/(Height_in_meters**2)\n",
    "    print('Your BMI is:', BMI)\n",
    "else:\n",
    "    BMI=Weight_in_kgs/(Height**2)\n",
    "    print('Your BMI is:', BMI)\n",
    "\n",
    "\n",
    "\n",
    "if BMI<18.5:\n",
    "    print('You are Under weight')\n",
    "elif 18.5<=BMI<25:\n",
    "    print('You are Normal Weight')\n",
    "elif 25<=BMI<30:\n",
    "    print('You are Over weight')\n",
    "elif BMI>30:\n",
    "    print('You are Obese')"
   ]
  }
 ],
 "metadata": {
  "kernelspec": {
   "display_name": "Python 3 (ipykernel)",
   "language": "python",
   "name": "python3"
  },
  "language_info": {
   "codemirror_mode": {
    "name": "ipython",
    "version": 3
   },
   "file_extension": ".py",
   "mimetype": "text/x-python",
   "name": "python",
   "nbconvert_exporter": "python",
   "pygments_lexer": "ipython3",
   "version": "3.9.13"
  }
 },
 "nbformat": 4,
 "nbformat_minor": 5
}
